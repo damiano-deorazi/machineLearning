{
 "cells": [
  {
   "metadata": {},
   "cell_type": "markdown",
   "source": [
    "# Extended MNIST\n",
    "\n",
    "L'obiettivo del progetto è il riconoscimento e la conseguente classificazione di immagini rappresentati lettere scritte a mano. Il dataset fornito è composto da 80000 immagini di stessa dimensione (28x28), rappresentate in scala di grigi. Non viene fatta distizione tra lettere maiuscole e minuscole, quindi le classi da individuare sono 26."
   ],
   "id": "2830136a6573fb48"
  },
  {
   "metadata": {},
   "cell_type": "markdown",
   "source": [
    "# Approccio alla soluzione\n",
    "\n",
    "Verranno utilizzati più modelli per la soluzione al problema, partendo da un modello di base (Logistic Regression) fino ad arrivare a modelli più complessi (Convolutional Neural Network). Le prestazioni di ogni modello verrano giudicate in base all'accuratezza ed al tempo di esecuzione.  I dati sono vengono divisi in 3 set: train (70%), validation (15%) e test set(15%).\n"
   ],
   "id": "a97ed62833dd2b0"
  },
  {
   "cell_type": "code",
   "id": "initial_id",
   "metadata": {
    "collapsed": true,
    "ExecuteTime": {
     "end_time": "2024-09-08T10:14:30.318585Z",
     "start_time": "2024-09-08T10:14:30.302385Z"
    }
   },
   "source": [
    "import pandas as pd\n",
    "import numpy as np\n",
    "import tensorflow as tf\n",
    "import matplotlib.pyplot as plt\n",
    "import keras_tuner as kt\n",
    "\n",
    "from time import time\n",
    "from sklearn.model_selection import train_test_split\n",
    "from sklearn.model_selection import PredefinedSplit\n",
    "from sklearn.linear_model import LogisticRegression\n",
    "from sklearn.model_selection import GridSearchCV\n",
    "from sklearn.metrics import accuracy_score, ConfusionMatrixDisplay, make_scorer\n",
    "from sklearn.ensemble import RandomForestClassifier"
   ],
   "outputs": [],
   "execution_count": 51
  },
  {
   "metadata": {
    "ExecuteTime": {
     "end_time": "2024-09-08T10:14:30.503824Z",
     "start_time": "2024-09-08T10:14:30.490396Z"
    }
   },
   "cell_type": "code",
   "source": [
    "#utility functions\n",
    "\n",
    "#time monitor\n",
    "def elapsed_time(start, end):\n",
    "    hours, rem = divmod(end-start, 3600)\n",
    "    minutes, seconds = divmod(rem, 60)\n",
    "    print(\"Time spent training: {:0>2}:{:0>2}:{:0>2}\".format(int(hours),int(minutes),int(seconds)))\n",
    "\n",
    "#accuracy printer\n",
    "def print_accuracy_scores(train_labels, test_labels, predictions_train_model, predictions_test_model):\n",
    "    acc_train = accuracy_score(train_labels, predictions_train_model)\n",
    "    acc_test = accuracy_score(test_labels, predictions_test_model)\n",
    "    print('Training set accuracy:   {:.3f}'.format(acc_train))\n",
    "    print('Test set accuracy:       {:.3f}'.format(acc_test))\n",
    "\n",
    "def plot_measure(history_train, history_test, title='', xticks=None):\n",
    "    plt.figure(figsize=(12, 8))\n",
    "    plt.plot(history_train, marker='o', markersize=5, label='Train')\n",
    "    plt.plot(history_test, marker='o', markersize=5, label='Validation')\n",
    "    plt.legend()\n",
    "    if xticks is None:\n",
    "        plt.gca().xaxis.set_major_locator(plt.NullLocator())\n",
    "    else:\n",
    "        #plt.gca().xaxis.set_major_locator(plt.MaxNLocator(integer=True))\n",
    "        ax = plt.subplot(111)\n",
    "        ax.set_xlim(xticks[0], xticks[-1])\n",
    "        plt.xticks(xticks)\n",
    "    plt.title(title)\n",
    "    plt.show()\n",
    "    \n",
    "#accuracy printer\n",
    "def plot_accuracy(history_df):\n",
    "    plot_measure(history_df.accuracy, history_df.val_accuracy, 'Accuracy')\n",
    "    \n",
    "#loss printer\n",
    "def plot_loss(history_df):\n",
    "    plot_measure(history_df.loss, history_df.val_loss, 'Loss')\n",
    "\n",
    "#confusion matrix printer\n",
    "def plot_confusion_matrix(train_labels, predictions_train):\n",
    "    plt.figure(figsize=(12,6))\n",
    "    disp = ConfusionMatrixDisplay.from_predictions(train_labels, predictions_train, normalize='true', cmap='Blues')\n",
    "    disp.figure_.suptitle(\"Confusion Matrix\")\n",
    "    plt.grid(None)\n",
    "    plt.show()\n",
    "    \n",
    "def create_flatten_images_array(dataset, array_specs):\n",
    "    images = np.ndarray((array_specs[0], array_specs[1] * array_specs[2]))\n",
    "    for i in range(0, len(dataset)):\n",
    "        images[i] = np.array(dataset[i]).flatten()\n",
    "    return images"
   ],
   "id": "d0efd228fa99c2f3",
   "outputs": [],
   "execution_count": 52
  },
  {
   "metadata": {
    "ExecuteTime": {
     "end_time": "2024-09-08T10:14:30.516026Z",
     "start_time": "2024-09-08T10:14:30.506332Z"
    }
   },
   "cell_type": "code",
   "source": [
    "#train validatin test split\n",
    "def train_validation_test_split(images, labels, test_val_size):\n",
    "    train_images, test_val_images, train_labels, test_val_labels = train_test_split(images, labels, test_size=test_val_size, random_state=42)\n",
    "    val_images, test_images, val_labels, test_labels = train_test_split(test_val_images, test_val_labels, test_size=0.5, random_state=42)\n",
    "\n",
    "    return train_images, train_labels, val_images, val_labels, test_images, test_labels\n",
    "\n",
    "def create_pds(train_images, val_images, train_labels, val_labels):\n",
    "    split_index = [-1]*len(train_images) + [0]*len(val_images)\n",
    "    X = np.concatenate((train_images, val_images), axis=0)\n",
    "    y = np.concatenate((train_labels, val_labels), axis=0)\n",
    "    pds = PredefinedSplit(test_fold = split_index)\n",
    "\n",
    "    return pds, X, y"
   ],
   "id": "38f2b16f87ffe82f",
   "outputs": [],
   "execution_count": 53
  },
  {
   "metadata": {
    "ExecuteTime": {
     "end_time": "2024-09-08T10:14:36.618423Z",
     "start_time": "2024-09-08T10:14:30.537674Z"
    }
   },
   "cell_type": "code",
   "source": [
    "#reading data from csv\n",
    "\n",
    "df = pd.read_csv(\"emnist-letters.csv\")\n",
    "X = df.iloc[:,1:].to_numpy().reshape(-1, 28, 28, order=\"F\")\n",
    "y = df.iloc[:,0].to_numpy()-1"
   ],
   "id": "e301b3c8b7bbd37f",
   "outputs": [],
   "execution_count": 54
  },
  {
   "metadata": {},
   "cell_type": "markdown",
   "source": [
    "# Softmax Regression\n",
    "\n",
    "Prima di applicare ogni modello, attraverso una GridSearch si individua la migliore combinazione dei parametri del modello scelto. A causa dei tempi di esecuzioni troppo elevati, non è stato possibile usare una cross-validation, ma una semplice \"1fold\"."
   ],
   "id": "29cb557c3a2c9374"
  },
  {
   "metadata": {},
   "cell_type": "markdown",
   "source": [
    "Nel caso della Softmax Regression, i parametri soggetti a tuning sono:\n",
    " - C (il fattore di regolarizzazione)\n",
    "  - max_iter (il numero massimo di iterazioni del solver)."
   ],
   "id": "f8a4dee6d26d5e1d"
  },
  {
   "metadata": {
    "ExecuteTime": {
     "end_time": "2024-09-08T12:03:22.286543Z",
     "start_time": "2024-09-08T12:03:15.978852Z"
    }
   },
   "cell_type": "code",
   "source": [
    "#splitting data in train, tese and validation and flattening it\n",
    "\n",
    "images_specs=[len(X),28,28]\n",
    "images = (create_flatten_images_array(X, images_specs))/255\n",
    "train_images, train_labels, val_images, val_labels, test_images, test_labels = train_validation_test_split(images, y, 0.3)\n",
    "\n",
    "pds, X_flat, y_flat = create_pds(train_images, val_images, train_labels, val_labels)"
   ],
   "id": "53b456f8febf98e5",
   "outputs": [],
   "execution_count": 95
  },
  {
   "metadata": {
    "ExecuteTime": {
     "end_time": "2024-09-08T10:23:10.009465Z",
     "start_time": "2024-09-08T10:14:38.343332Z"
    }
   },
   "cell_type": "code",
   "source": [
    "params = {\"C\":[0.1, 0.01, 0.001],\n",
    "         \"max_iter\":[100, 200, 500, 1000]}\n",
    "clf = GridSearchCV(LogisticRegression(n_jobs=-1), params, scoring='accuracy', return_train_score=True, cv=pds)\n",
    "\n",
    "time_start = time()\n",
    "\n",
    "clf.fit(X_flat, y_flat)\n",
    "\n",
    "time_end = time()\n",
    "elapsed_time(time_start, time_end)"
   ],
   "id": "ccbb09da403b631a",
   "outputs": [
    {
     "name": "stdout",
     "output_type": "stream",
     "text": [
      "Time spent training: 00:08:31\n"
     ]
    }
   ],
   "execution_count": 56
  },
  {
   "metadata": {
    "ExecuteTime": {
     "end_time": "2024-09-08T10:23:10.052933Z",
     "start_time": "2024-09-08T10:23:10.015509Z"
    }
   },
   "cell_type": "code",
   "source": "clf.best_estimator_",
   "id": "c9820af7100c4a2f",
   "outputs": [
    {
     "data": {
      "text/plain": [
       "LogisticRegression(C=0.1, max_iter=200, n_jobs=-1)"
      ],
      "text/html": [
       "<style>#sk-container-id-1 {\n",
       "  /* Definition of color scheme common for light and dark mode */\n",
       "  --sklearn-color-text: black;\n",
       "  --sklearn-color-line: gray;\n",
       "  /* Definition of color scheme for unfitted estimators */\n",
       "  --sklearn-color-unfitted-level-0: #fff5e6;\n",
       "  --sklearn-color-unfitted-level-1: #f6e4d2;\n",
       "  --sklearn-color-unfitted-level-2: #ffe0b3;\n",
       "  --sklearn-color-unfitted-level-3: chocolate;\n",
       "  /* Definition of color scheme for fitted estimators */\n",
       "  --sklearn-color-fitted-level-0: #f0f8ff;\n",
       "  --sklearn-color-fitted-level-1: #d4ebff;\n",
       "  --sklearn-color-fitted-level-2: #b3dbfd;\n",
       "  --sklearn-color-fitted-level-3: cornflowerblue;\n",
       "\n",
       "  /* Specific color for light theme */\n",
       "  --sklearn-color-text-on-default-background: var(--sg-text-color, var(--theme-code-foreground, var(--jp-content-font-color1, black)));\n",
       "  --sklearn-color-background: var(--sg-background-color, var(--theme-background, var(--jp-layout-color0, white)));\n",
       "  --sklearn-color-border-box: var(--sg-text-color, var(--theme-code-foreground, var(--jp-content-font-color1, black)));\n",
       "  --sklearn-color-icon: #696969;\n",
       "\n",
       "  @media (prefers-color-scheme: dark) {\n",
       "    /* Redefinition of color scheme for dark theme */\n",
       "    --sklearn-color-text-on-default-background: var(--sg-text-color, var(--theme-code-foreground, var(--jp-content-font-color1, white)));\n",
       "    --sklearn-color-background: var(--sg-background-color, var(--theme-background, var(--jp-layout-color0, #111)));\n",
       "    --sklearn-color-border-box: var(--sg-text-color, var(--theme-code-foreground, var(--jp-content-font-color1, white)));\n",
       "    --sklearn-color-icon: #878787;\n",
       "  }\n",
       "}\n",
       "\n",
       "#sk-container-id-1 {\n",
       "  color: var(--sklearn-color-text);\n",
       "}\n",
       "\n",
       "#sk-container-id-1 pre {\n",
       "  padding: 0;\n",
       "}\n",
       "\n",
       "#sk-container-id-1 input.sk-hidden--visually {\n",
       "  border: 0;\n",
       "  clip: rect(1px 1px 1px 1px);\n",
       "  clip: rect(1px, 1px, 1px, 1px);\n",
       "  height: 1px;\n",
       "  margin: -1px;\n",
       "  overflow: hidden;\n",
       "  padding: 0;\n",
       "  position: absolute;\n",
       "  width: 1px;\n",
       "}\n",
       "\n",
       "#sk-container-id-1 div.sk-dashed-wrapped {\n",
       "  border: 1px dashed var(--sklearn-color-line);\n",
       "  margin: 0 0.4em 0.5em 0.4em;\n",
       "  box-sizing: border-box;\n",
       "  padding-bottom: 0.4em;\n",
       "  background-color: var(--sklearn-color-background);\n",
       "}\n",
       "\n",
       "#sk-container-id-1 div.sk-container {\n",
       "  /* jupyter's `normalize.less` sets `[hidden] { display: none; }`\n",
       "     but bootstrap.min.css set `[hidden] { display: none !important; }`\n",
       "     so we also need the `!important` here to be able to override the\n",
       "     default hidden behavior on the sphinx rendered scikit-learn.org.\n",
       "     See: https://github.com/scikit-learn/scikit-learn/issues/21755 */\n",
       "  display: inline-block !important;\n",
       "  position: relative;\n",
       "}\n",
       "\n",
       "#sk-container-id-1 div.sk-text-repr-fallback {\n",
       "  display: none;\n",
       "}\n",
       "\n",
       "div.sk-parallel-item,\n",
       "div.sk-serial,\n",
       "div.sk-item {\n",
       "  /* draw centered vertical line to link estimators */\n",
       "  background-image: linear-gradient(var(--sklearn-color-text-on-default-background), var(--sklearn-color-text-on-default-background));\n",
       "  background-size: 2px 100%;\n",
       "  background-repeat: no-repeat;\n",
       "  background-position: center center;\n",
       "}\n",
       "\n",
       "/* Parallel-specific style estimator block */\n",
       "\n",
       "#sk-container-id-1 div.sk-parallel-item::after {\n",
       "  content: \"\";\n",
       "  width: 100%;\n",
       "  border-bottom: 2px solid var(--sklearn-color-text-on-default-background);\n",
       "  flex-grow: 1;\n",
       "}\n",
       "\n",
       "#sk-container-id-1 div.sk-parallel {\n",
       "  display: flex;\n",
       "  align-items: stretch;\n",
       "  justify-content: center;\n",
       "  background-color: var(--sklearn-color-background);\n",
       "  position: relative;\n",
       "}\n",
       "\n",
       "#sk-container-id-1 div.sk-parallel-item {\n",
       "  display: flex;\n",
       "  flex-direction: column;\n",
       "}\n",
       "\n",
       "#sk-container-id-1 div.sk-parallel-item:first-child::after {\n",
       "  align-self: flex-end;\n",
       "  width: 50%;\n",
       "}\n",
       "\n",
       "#sk-container-id-1 div.sk-parallel-item:last-child::after {\n",
       "  align-self: flex-start;\n",
       "  width: 50%;\n",
       "}\n",
       "\n",
       "#sk-container-id-1 div.sk-parallel-item:only-child::after {\n",
       "  width: 0;\n",
       "}\n",
       "\n",
       "/* Serial-specific style estimator block */\n",
       "\n",
       "#sk-container-id-1 div.sk-serial {\n",
       "  display: flex;\n",
       "  flex-direction: column;\n",
       "  align-items: center;\n",
       "  background-color: var(--sklearn-color-background);\n",
       "  padding-right: 1em;\n",
       "  padding-left: 1em;\n",
       "}\n",
       "\n",
       "\n",
       "/* Toggleable style: style used for estimator/Pipeline/ColumnTransformer box that is\n",
       "clickable and can be expanded/collapsed.\n",
       "- Pipeline and ColumnTransformer use this feature and define the default style\n",
       "- Estimators will overwrite some part of the style using the `sk-estimator` class\n",
       "*/\n",
       "\n",
       "/* Pipeline and ColumnTransformer style (default) */\n",
       "\n",
       "#sk-container-id-1 div.sk-toggleable {\n",
       "  /* Default theme specific background. It is overwritten whether we have a\n",
       "  specific estimator or a Pipeline/ColumnTransformer */\n",
       "  background-color: var(--sklearn-color-background);\n",
       "}\n",
       "\n",
       "/* Toggleable label */\n",
       "#sk-container-id-1 label.sk-toggleable__label {\n",
       "  cursor: pointer;\n",
       "  display: block;\n",
       "  width: 100%;\n",
       "  margin-bottom: 0;\n",
       "  padding: 0.5em;\n",
       "  box-sizing: border-box;\n",
       "  text-align: center;\n",
       "}\n",
       "\n",
       "#sk-container-id-1 label.sk-toggleable__label-arrow:before {\n",
       "  /* Arrow on the left of the label */\n",
       "  content: \"▸\";\n",
       "  float: left;\n",
       "  margin-right: 0.25em;\n",
       "  color: var(--sklearn-color-icon);\n",
       "}\n",
       "\n",
       "#sk-container-id-1 label.sk-toggleable__label-arrow:hover:before {\n",
       "  color: var(--sklearn-color-text);\n",
       "}\n",
       "\n",
       "/* Toggleable content - dropdown */\n",
       "\n",
       "#sk-container-id-1 div.sk-toggleable__content {\n",
       "  max-height: 0;\n",
       "  max-width: 0;\n",
       "  overflow: hidden;\n",
       "  text-align: left;\n",
       "  /* unfitted */\n",
       "  background-color: var(--sklearn-color-unfitted-level-0);\n",
       "}\n",
       "\n",
       "#sk-container-id-1 div.sk-toggleable__content.fitted {\n",
       "  /* fitted */\n",
       "  background-color: var(--sklearn-color-fitted-level-0);\n",
       "}\n",
       "\n",
       "#sk-container-id-1 div.sk-toggleable__content pre {\n",
       "  margin: 0.2em;\n",
       "  border-radius: 0.25em;\n",
       "  color: var(--sklearn-color-text);\n",
       "  /* unfitted */\n",
       "  background-color: var(--sklearn-color-unfitted-level-0);\n",
       "}\n",
       "\n",
       "#sk-container-id-1 div.sk-toggleable__content.fitted pre {\n",
       "  /* unfitted */\n",
       "  background-color: var(--sklearn-color-fitted-level-0);\n",
       "}\n",
       "\n",
       "#sk-container-id-1 input.sk-toggleable__control:checked~div.sk-toggleable__content {\n",
       "  /* Expand drop-down */\n",
       "  max-height: 200px;\n",
       "  max-width: 100%;\n",
       "  overflow: auto;\n",
       "}\n",
       "\n",
       "#sk-container-id-1 input.sk-toggleable__control:checked~label.sk-toggleable__label-arrow:before {\n",
       "  content: \"▾\";\n",
       "}\n",
       "\n",
       "/* Pipeline/ColumnTransformer-specific style */\n",
       "\n",
       "#sk-container-id-1 div.sk-label input.sk-toggleable__control:checked~label.sk-toggleable__label {\n",
       "  color: var(--sklearn-color-text);\n",
       "  background-color: var(--sklearn-color-unfitted-level-2);\n",
       "}\n",
       "\n",
       "#sk-container-id-1 div.sk-label.fitted input.sk-toggleable__control:checked~label.sk-toggleable__label {\n",
       "  background-color: var(--sklearn-color-fitted-level-2);\n",
       "}\n",
       "\n",
       "/* Estimator-specific style */\n",
       "\n",
       "/* Colorize estimator box */\n",
       "#sk-container-id-1 div.sk-estimator input.sk-toggleable__control:checked~label.sk-toggleable__label {\n",
       "  /* unfitted */\n",
       "  background-color: var(--sklearn-color-unfitted-level-2);\n",
       "}\n",
       "\n",
       "#sk-container-id-1 div.sk-estimator.fitted input.sk-toggleable__control:checked~label.sk-toggleable__label {\n",
       "  /* fitted */\n",
       "  background-color: var(--sklearn-color-fitted-level-2);\n",
       "}\n",
       "\n",
       "#sk-container-id-1 div.sk-label label.sk-toggleable__label,\n",
       "#sk-container-id-1 div.sk-label label {\n",
       "  /* The background is the default theme color */\n",
       "  color: var(--sklearn-color-text-on-default-background);\n",
       "}\n",
       "\n",
       "/* On hover, darken the color of the background */\n",
       "#sk-container-id-1 div.sk-label:hover label.sk-toggleable__label {\n",
       "  color: var(--sklearn-color-text);\n",
       "  background-color: var(--sklearn-color-unfitted-level-2);\n",
       "}\n",
       "\n",
       "/* Label box, darken color on hover, fitted */\n",
       "#sk-container-id-1 div.sk-label.fitted:hover label.sk-toggleable__label.fitted {\n",
       "  color: var(--sklearn-color-text);\n",
       "  background-color: var(--sklearn-color-fitted-level-2);\n",
       "}\n",
       "\n",
       "/* Estimator label */\n",
       "\n",
       "#sk-container-id-1 div.sk-label label {\n",
       "  font-family: monospace;\n",
       "  font-weight: bold;\n",
       "  display: inline-block;\n",
       "  line-height: 1.2em;\n",
       "}\n",
       "\n",
       "#sk-container-id-1 div.sk-label-container {\n",
       "  text-align: center;\n",
       "}\n",
       "\n",
       "/* Estimator-specific */\n",
       "#sk-container-id-1 div.sk-estimator {\n",
       "  font-family: monospace;\n",
       "  border: 1px dotted var(--sklearn-color-border-box);\n",
       "  border-radius: 0.25em;\n",
       "  box-sizing: border-box;\n",
       "  margin-bottom: 0.5em;\n",
       "  /* unfitted */\n",
       "  background-color: var(--sklearn-color-unfitted-level-0);\n",
       "}\n",
       "\n",
       "#sk-container-id-1 div.sk-estimator.fitted {\n",
       "  /* fitted */\n",
       "  background-color: var(--sklearn-color-fitted-level-0);\n",
       "}\n",
       "\n",
       "/* on hover */\n",
       "#sk-container-id-1 div.sk-estimator:hover {\n",
       "  /* unfitted */\n",
       "  background-color: var(--sklearn-color-unfitted-level-2);\n",
       "}\n",
       "\n",
       "#sk-container-id-1 div.sk-estimator.fitted:hover {\n",
       "  /* fitted */\n",
       "  background-color: var(--sklearn-color-fitted-level-2);\n",
       "}\n",
       "\n",
       "/* Specification for estimator info (e.g. \"i\" and \"?\") */\n",
       "\n",
       "/* Common style for \"i\" and \"?\" */\n",
       "\n",
       ".sk-estimator-doc-link,\n",
       "a:link.sk-estimator-doc-link,\n",
       "a:visited.sk-estimator-doc-link {\n",
       "  float: right;\n",
       "  font-size: smaller;\n",
       "  line-height: 1em;\n",
       "  font-family: monospace;\n",
       "  background-color: var(--sklearn-color-background);\n",
       "  border-radius: 1em;\n",
       "  height: 1em;\n",
       "  width: 1em;\n",
       "  text-decoration: none !important;\n",
       "  margin-left: 1ex;\n",
       "  /* unfitted */\n",
       "  border: var(--sklearn-color-unfitted-level-1) 1pt solid;\n",
       "  color: var(--sklearn-color-unfitted-level-1);\n",
       "}\n",
       "\n",
       ".sk-estimator-doc-link.fitted,\n",
       "a:link.sk-estimator-doc-link.fitted,\n",
       "a:visited.sk-estimator-doc-link.fitted {\n",
       "  /* fitted */\n",
       "  border: var(--sklearn-color-fitted-level-1) 1pt solid;\n",
       "  color: var(--sklearn-color-fitted-level-1);\n",
       "}\n",
       "\n",
       "/* On hover */\n",
       "div.sk-estimator:hover .sk-estimator-doc-link:hover,\n",
       ".sk-estimator-doc-link:hover,\n",
       "div.sk-label-container:hover .sk-estimator-doc-link:hover,\n",
       ".sk-estimator-doc-link:hover {\n",
       "  /* unfitted */\n",
       "  background-color: var(--sklearn-color-unfitted-level-3);\n",
       "  color: var(--sklearn-color-background);\n",
       "  text-decoration: none;\n",
       "}\n",
       "\n",
       "div.sk-estimator.fitted:hover .sk-estimator-doc-link.fitted:hover,\n",
       ".sk-estimator-doc-link.fitted:hover,\n",
       "div.sk-label-container:hover .sk-estimator-doc-link.fitted:hover,\n",
       ".sk-estimator-doc-link.fitted:hover {\n",
       "  /* fitted */\n",
       "  background-color: var(--sklearn-color-fitted-level-3);\n",
       "  color: var(--sklearn-color-background);\n",
       "  text-decoration: none;\n",
       "}\n",
       "\n",
       "/* Span, style for the box shown on hovering the info icon */\n",
       ".sk-estimator-doc-link span {\n",
       "  display: none;\n",
       "  z-index: 9999;\n",
       "  position: relative;\n",
       "  font-weight: normal;\n",
       "  right: .2ex;\n",
       "  padding: .5ex;\n",
       "  margin: .5ex;\n",
       "  width: min-content;\n",
       "  min-width: 20ex;\n",
       "  max-width: 50ex;\n",
       "  color: var(--sklearn-color-text);\n",
       "  box-shadow: 2pt 2pt 4pt #999;\n",
       "  /* unfitted */\n",
       "  background: var(--sklearn-color-unfitted-level-0);\n",
       "  border: .5pt solid var(--sklearn-color-unfitted-level-3);\n",
       "}\n",
       "\n",
       ".sk-estimator-doc-link.fitted span {\n",
       "  /* fitted */\n",
       "  background: var(--sklearn-color-fitted-level-0);\n",
       "  border: var(--sklearn-color-fitted-level-3);\n",
       "}\n",
       "\n",
       ".sk-estimator-doc-link:hover span {\n",
       "  display: block;\n",
       "}\n",
       "\n",
       "/* \"?\"-specific style due to the `<a>` HTML tag */\n",
       "\n",
       "#sk-container-id-1 a.estimator_doc_link {\n",
       "  float: right;\n",
       "  font-size: 1rem;\n",
       "  line-height: 1em;\n",
       "  font-family: monospace;\n",
       "  background-color: var(--sklearn-color-background);\n",
       "  border-radius: 1rem;\n",
       "  height: 1rem;\n",
       "  width: 1rem;\n",
       "  text-decoration: none;\n",
       "  /* unfitted */\n",
       "  color: var(--sklearn-color-unfitted-level-1);\n",
       "  border: var(--sklearn-color-unfitted-level-1) 1pt solid;\n",
       "}\n",
       "\n",
       "#sk-container-id-1 a.estimator_doc_link.fitted {\n",
       "  /* fitted */\n",
       "  border: var(--sklearn-color-fitted-level-1) 1pt solid;\n",
       "  color: var(--sklearn-color-fitted-level-1);\n",
       "}\n",
       "\n",
       "/* On hover */\n",
       "#sk-container-id-1 a.estimator_doc_link:hover {\n",
       "  /* unfitted */\n",
       "  background-color: var(--sklearn-color-unfitted-level-3);\n",
       "  color: var(--sklearn-color-background);\n",
       "  text-decoration: none;\n",
       "}\n",
       "\n",
       "#sk-container-id-1 a.estimator_doc_link.fitted:hover {\n",
       "  /* fitted */\n",
       "  background-color: var(--sklearn-color-fitted-level-3);\n",
       "}\n",
       "</style><div id=\"sk-container-id-1\" class=\"sk-top-container\"><div class=\"sk-text-repr-fallback\"><pre>LogisticRegression(C=0.1, max_iter=200, n_jobs=-1)</pre><b>In a Jupyter environment, please rerun this cell to show the HTML representation or trust the notebook. <br />On GitHub, the HTML representation is unable to render, please try loading this page with nbviewer.org.</b></div><div class=\"sk-container\" hidden><div class=\"sk-item\"><div class=\"sk-estimator fitted sk-toggleable\"><input class=\"sk-toggleable__control sk-hidden--visually\" id=\"sk-estimator-id-1\" type=\"checkbox\" checked><label for=\"sk-estimator-id-1\" class=\"sk-toggleable__label fitted sk-toggleable__label-arrow fitted\">&nbsp;&nbsp;LogisticRegression<a class=\"sk-estimator-doc-link fitted\" rel=\"noreferrer\" target=\"_blank\" href=\"https://scikit-learn.org/1.5/modules/generated/sklearn.linear_model.LogisticRegression.html\">?<span>Documentation for LogisticRegression</span></a><span class=\"sk-estimator-doc-link fitted\">i<span>Fitted</span></span></label><div class=\"sk-toggleable__content fitted\"><pre>LogisticRegression(C=0.1, max_iter=200, n_jobs=-1)</pre></div> </div></div></div></div>"
      ]
     },
     "execution_count": 57,
     "metadata": {},
     "output_type": "execute_result"
    }
   ],
   "execution_count": 57
  },
  {
   "metadata": {
    "ExecuteTime": {
     "end_time": "2024-09-08T10:23:10.061984Z",
     "start_time": "2024-09-08T10:23:10.052933Z"
    }
   },
   "cell_type": "code",
   "source": "clf.best_score_",
   "id": "d00e5b4ffc6fe95d",
   "outputs": [
    {
     "data": {
      "text/plain": [
       "0.7140390390390391"
      ]
     },
     "execution_count": 58,
     "metadata": {},
     "output_type": "execute_result"
    }
   ],
   "execution_count": 58
  },
  {
   "metadata": {
    "ExecuteTime": {
     "end_time": "2024-09-08T10:23:51.333813Z",
     "start_time": "2024-09-08T10:23:10.061984Z"
    }
   },
   "cell_type": "code",
   "source": [
    "log_reg = LogisticRegression(multi_class='multinomial', n_jobs=-1, C=0.01, max_iter=1000)\n",
    "time_start = time()\n",
    "log_reg.fit(train_images, train_labels)\n",
    "time_end = time()\n",
    "elapsed_time(time_start, time_end)\n",
    "\n",
    "predictions_test = log_reg.predict(test_images)\n",
    "predictions_train = log_reg.predict(train_images)\n",
    "\n",
    "print_accuracy_scores(train_labels, test_labels, predictions_train, predictions_test)"
   ],
   "id": "cc58b7c57fac3bdd",
   "outputs": [
    {
     "name": "stderr",
     "output_type": "stream",
     "text": [
      "C:\\Users\\Damiano\\PycharmProjects\\machineLearning\\.venv\\Lib\\site-packages\\sklearn\\linear_model\\_logistic.py:1247: FutureWarning: 'multi_class' was deprecated in version 1.5 and will be removed in 1.7. From then on, it will always use 'multinomial'. Leave it to its default value to avoid this warning.\n",
      "  warnings.warn(\n"
     ]
    },
    {
     "name": "stdout",
     "output_type": "stream",
     "text": [
      "Time spent training: 00:00:40\n",
      "Training set accuracy:   0.716\n",
      "Test set accuracy:       0.698\n"
     ]
    }
   ],
   "execution_count": 59
  },
  {
   "metadata": {},
   "cell_type": "markdown",
   "source": [
    "# Random forest\n",
    "\n",
    "Nella Random Forest, i paramteri soggetti a tuning sono:\n",
    "- n_estimators (il numero di alberi)\n",
    "- criterion (funzione di impurità)\n",
    "- min_samples_split (il numeri minimo di elementi di un nodo affinché possa essere partizionato)\n",
    "- max_depth (profondità dell'albero).\n",
    "\n",
    "La suddivisione del dataset in train, validatione test set rimane la stessa: 70% train set, 15% test set e 15% validation set.\n"
   ],
   "id": "b05649dd8e193728"
  },
  {
   "metadata": {
    "ExecuteTime": {
     "end_time": "2024-09-08T10:55:43.992919Z",
     "start_time": "2024-09-08T10:55:43.976790Z"
    }
   },
   "cell_type": "code",
   "source": [
    "n_estimators =[50, 100, 200] \n",
    "criterion = [\"gini\", \"entropy\"]\n",
    "min_samples_split = [2, 4, 8, 16, 32, 64, 128, 256]\n",
    "max_depth = [1, 5, 10, 20]\n",
    "\n",
    "def build_random_forest(hp):\n",
    "    model = RandomForestClassifier(\n",
    "        n_jobs=-1, \n",
    "        random_state=42,\n",
    "        n_estimators=hp.Choice(\"n_estimators\", n_estimators),\n",
    "        criterion=hp.Choice(\"criterion\", criterion),\n",
    "        min_samples_split=hp.Choice(\"min_samples_split\", min_samples_split),\n",
    "        max_depth=hp.Choice('max_depth', max_depth))\n",
    "    return model"
   ],
   "id": "be1534c3700b389d",
   "outputs": [],
   "execution_count": 92
  },
  {
   "metadata": {},
   "cell_type": "code",
   "source": [
    "rf_trials=30\n",
    "scorer = make_scorer(accuracy_score)\n",
    "\n",
    "tuner = kt.tuners.SklearnTuner(\n",
    "    oracle=kt.oracles.RandomSearchOracle(objective=kt.Objective('score', 'max'),max_trials=rf_trials, seed=42),\n",
    "    scoring=scorer,\n",
    "    hypermodel= build_random_forest,\n",
    "    cv=pds,\n",
    "    project_name='tuners/random_forest')\n",
    "\n",
    "tuner.search(X_flat, y_flat)\n",
    "best_hps = tuner.get_best_hyperparameters(num_trials=1)[0]\n",
    "\n",
    "print(\"\\nBest criterion:        \", best_hps.get(\"criterion\"))\n",
    "print(\"Best max_depth:          \", best_hps.get(\"max_depth\"))\n",
    "print(\"Best n_estimators:       \", best_hps.get(\"n_estimators\"))\n",
    "print(\"Best min_samples_split:  \", best_hps.get(\"min_samples_split\"))"
   ],
   "id": "88aef0e9efbceeb2",
   "execution_count": 93,
   "outputs": [
    {
     "name": "stdout",
     "output_type": "stream",
     "text": [
      "Trial 30 Complete [00h 00m 04s]\n",
      "score: 0.5742492492492492\n",
      "\n",
      "Best score So Far: 0.8671171171171171\n",
      "Total elapsed time: 00h 05m 57s\n",
      "\n",
      "Best criterion:         gini\n",
      "Best max_depth:           20\n",
      "Best n_estimators:        200\n",
      "Best min_samples_split:   8\n"
     ]
    }
   ]
  },
  {
   "metadata": {
    "ExecuteTime": {
     "end_time": "2024-09-08T12:04:18.670505Z",
     "start_time": "2024-09-08T12:03:35.257632Z"
    }
   },
   "cell_type": "code",
   "source": [
    "model = RandomForestClassifier(n_jobs=-1, criterion=best_hps.get(\"criterion\"), \n",
    "                               max_depth=best_hps.get(\"max_depth\"), n_estimators=best_hps.get(\"n_estimators\"), min_samples_split=best_hps.get(\"min_samples_split\"))\n",
    "time_start = time()\n",
    "model.fit(train_images, train_labels)\n",
    "time_end = time()\n",
    "elapsed_time(time_start, time_end) \n",
    "print(\"\")\n",
    "\n",
    "predictions_test = model.predict(test_images)\n",
    "predictions_train = model.predict(train_images)\n",
    "\n",
    "print_accuracy_scores(train_labels, test_labels, predictions_train, predictions_test)"
   ],
   "id": "8ddcd14612ed897b",
   "outputs": [
    {
     "name": "stdout",
     "output_type": "stream",
     "text": [
      "Time spent training: 00:00:39\n",
      "\n",
      "Training set accuracy:   0.988\n",
      "Test set accuracy:       0.863\n"
     ]
    }
   ],
   "execution_count": 96
  },
  {
   "metadata": {},
   "cell_type": "markdown",
   "source": [
    "# Reti neurali convoluzionali (CNN)\n",
    "\n",
    "Come ultima tipologia di modello si è scelto di utilizzare una CNN. Verranno analizzati 3 modelli di complessità crescente,  ed ad ogni di essi verrà applicato il tuning degli iperparametri."
   ],
   "id": "83dd28cf7a31edd"
  },
  {
   "metadata": {
    "ExecuteTime": {
     "end_time": "2024-09-08T10:25:49.018026Z",
     "start_time": "2024-09-08T10:25:48.998129Z"
    }
   },
   "cell_type": "code",
   "source": [
    "#hyperparameters\n",
    "dense_units = [32, 64, 128, 256]\n",
    "l2 = [0.01, 0.001, 0.0001]\n",
    "dropouts_rate = [.20, .30, .40, .50, .60, .70, .80]\n",
    "filters = [[16,32,64], [32, 64, 128]]\n",
    "filter = [16, 32, 64, 128, 256]"
   ],
   "id": "6a4db0df0f2224ac",
   "outputs": [],
   "execution_count": 63
  },
  {
   "metadata": {},
   "cell_type": "markdown",
   "source": [
    "# Modello 1\n",
    "\n",
    "Questo modello rappresenta la base per i modelli successivi più complessi. Esso non presenta un layer per la convoluzione, quindi non è classificabile come CNN, bensì abbiamo:\n",
    "- un layer per il rescaling delle immagini\n",
    "- un layer per applicare il flatten dei dati\n",
    "- un layer su cui si applica il tuning per il numero di unità con funzione di attivazione relu\n",
    "- un layer di output, che sarà lo stesso per tutti i modelli, con 26 nodi e la softmax come funzione di attivazione"
   ],
   "id": "30ab05956697e16a"
  },
  {
   "metadata": {
    "ExecuteTime": {
     "end_time": "2024-09-08T10:25:49.039615Z",
     "start_time": "2024-09-08T10:25:49.018026Z"
    }
   },
   "cell_type": "code",
   "source": [
    "def model1_builder(hp): \n",
    "    model1 = tf.keras.Sequential()\n",
    "    model1.add(tf.keras.layers.Rescaling(1./255, input_shape=(28, 28)))\n",
    "    model1.add(tf.keras.layers.Flatten())\n",
    "    model1.add(tf.keras.layers.Dense(hp.Choice('dense_units', dense_units), activation='relu'))\n",
    "    model1.add(tf.keras.layers.Dense(26, activation='softmax'))\n",
    "    \n",
    "    model1.compile(optimizer='adam', loss='sparse_categorical_crossentropy', metrics=['accuracy'])\n",
    "\n",
    "    return model1"
   ],
   "id": "3dbf73ea4bb1eedb",
   "outputs": [],
   "execution_count": 64
  },
  {
   "metadata": {
    "ExecuteTime": {
     "end_time": "2024-09-08T10:25:54.056465Z",
     "start_time": "2024-09-08T10:25:49.039615Z"
    }
   },
   "cell_type": "code",
   "source": "train_images, train_labels, val_images, val_labels, test_images, test_labels = train_validation_test_split(X, y, 0.3)",
   "id": "97632c1c4eaa08c6",
   "outputs": [],
   "execution_count": 65
  },
  {
   "metadata": {
    "ExecuteTime": {
     "end_time": "2024-09-08T10:25:54.175732Z",
     "start_time": "2024-09-08T10:25:54.056465Z"
    }
   },
   "cell_type": "code",
   "source": [
    "tuner = kt.GridSearch(model1_builder, kt.Objective('val_accuracy', direction='max'), project_name='tuners/nn1')\n",
    "tuner.search(train_images, train_labels, epochs=20, validation_data=(val_images, val_labels), callbacks=[tf.keras.callbacks.EarlyStopping(monitor='val_accuracy', mode='max', patience=5)], batch_size=128)\n",
    "best_hps=tuner.get_best_hyperparameters(num_trials=1)[0]\n",
    "#gc.collect()"
   ],
   "id": "4c0419e9eda13dcd",
   "outputs": [
    {
     "name": "stdout",
     "output_type": "stream",
     "text": [
      "Reloading Tuner from .\\tuners/nn1\\tuner0.json\n"
     ]
    }
   ],
   "execution_count": 66
  },
  {
   "metadata": {
    "ExecuteTime": {
     "end_time": "2024-09-08T10:25:54.182903Z",
     "start_time": "2024-09-08T10:25:54.175732Z"
    }
   },
   "cell_type": "code",
   "source": "print(\"Best Dense units: \", best_hps.get(\"dense_units\"))",
   "id": "45fa3628b001bac8",
   "outputs": [
    {
     "name": "stdout",
     "output_type": "stream",
     "text": [
      "Best Dense units:  256\n"
     ]
    }
   ],
   "execution_count": 67
  },
  {
   "metadata": {
    "ExecuteTime": {
     "end_time": "2024-09-08T10:25:54.684143Z",
     "start_time": "2024-09-08T10:25:54.182903Z"
    }
   },
   "cell_type": "code",
   "source": [
    "model1 = tuner.hypermodel.build(best_hps)\n",
    "model1.summary()"
   ],
   "id": "8114dbf54a858669",
   "outputs": [
    {
     "name": "stderr",
     "output_type": "stream",
     "text": [
      "C:\\Users\\Damiano\\PycharmProjects\\machineLearning\\.venv\\Lib\\site-packages\\keras\\src\\layers\\preprocessing\\tf_data_layer.py:18: UserWarning: Do not pass an `input_shape`/`input_dim` argument to a layer. When using Sequential models, prefer using an `Input(shape)` object as the first layer in the model instead.\n",
      "  super().__init__(**kwargs)\n"
     ]
    },
    {
     "data": {
      "text/plain": [
       "\u001B[1mModel: \"sequential_2\"\u001B[0m\n"
      ],
      "text/html": [
       "<pre style=\"white-space:pre;overflow-x:auto;line-height:normal;font-family:Menlo,'DejaVu Sans Mono',consolas,'Courier New',monospace\"><span style=\"font-weight: bold\">Model: \"sequential_2\"</span>\n",
       "</pre>\n"
      ]
     },
     "metadata": {},
     "output_type": "display_data"
    },
    {
     "data": {
      "text/plain": [
       "┏━━━━━━━━━━━━━━━━━━━━━━━━━━━━━━━━━┳━━━━━━━━━━━━━━━━━━━━━━━━┳━━━━━━━━━━━━━━━┓\n",
       "┃\u001B[1m \u001B[0m\u001B[1mLayer (type)                   \u001B[0m\u001B[1m \u001B[0m┃\u001B[1m \u001B[0m\u001B[1mOutput Shape          \u001B[0m\u001B[1m \u001B[0m┃\u001B[1m \u001B[0m\u001B[1m      Param #\u001B[0m\u001B[1m \u001B[0m┃\n",
       "┡━━━━━━━━━━━━━━━━━━━━━━━━━━━━━━━━━╇━━━━━━━━━━━━━━━━━━━━━━━━╇━━━━━━━━━━━━━━━┩\n",
       "│ rescaling_2 (\u001B[38;5;33mRescaling\u001B[0m)         │ (\u001B[38;5;45mNone\u001B[0m, \u001B[38;5;34m28\u001B[0m, \u001B[38;5;34m28\u001B[0m)         │             \u001B[38;5;34m0\u001B[0m │\n",
       "├─────────────────────────────────┼────────────────────────┼───────────────┤\n",
       "│ flatten_2 (\u001B[38;5;33mFlatten\u001B[0m)             │ (\u001B[38;5;45mNone\u001B[0m, \u001B[38;5;34m784\u001B[0m)            │             \u001B[38;5;34m0\u001B[0m │\n",
       "├─────────────────────────────────┼────────────────────────┼───────────────┤\n",
       "│ dense_4 (\u001B[38;5;33mDense\u001B[0m)                 │ (\u001B[38;5;45mNone\u001B[0m, \u001B[38;5;34m256\u001B[0m)            │       \u001B[38;5;34m200,960\u001B[0m │\n",
       "├─────────────────────────────────┼────────────────────────┼───────────────┤\n",
       "│ dense_5 (\u001B[38;5;33mDense\u001B[0m)                 │ (\u001B[38;5;45mNone\u001B[0m, \u001B[38;5;34m26\u001B[0m)             │         \u001B[38;5;34m6,682\u001B[0m │\n",
       "└─────────────────────────────────┴────────────────────────┴───────────────┘\n"
      ],
      "text/html": [
       "<pre style=\"white-space:pre;overflow-x:auto;line-height:normal;font-family:Menlo,'DejaVu Sans Mono',consolas,'Courier New',monospace\">┏━━━━━━━━━━━━━━━━━━━━━━━━━━━━━━━━━┳━━━━━━━━━━━━━━━━━━━━━━━━┳━━━━━━━━━━━━━━━┓\n",
       "┃<span style=\"font-weight: bold\"> Layer (type)                    </span>┃<span style=\"font-weight: bold\"> Output Shape           </span>┃<span style=\"font-weight: bold\">       Param # </span>┃\n",
       "┡━━━━━━━━━━━━━━━━━━━━━━━━━━━━━━━━━╇━━━━━━━━━━━━━━━━━━━━━━━━╇━━━━━━━━━━━━━━━┩\n",
       "│ rescaling_2 (<span style=\"color: #0087ff; text-decoration-color: #0087ff\">Rescaling</span>)         │ (<span style=\"color: #00d7ff; text-decoration-color: #00d7ff\">None</span>, <span style=\"color: #00af00; text-decoration-color: #00af00\">28</span>, <span style=\"color: #00af00; text-decoration-color: #00af00\">28</span>)         │             <span style=\"color: #00af00; text-decoration-color: #00af00\">0</span> │\n",
       "├─────────────────────────────────┼────────────────────────┼───────────────┤\n",
       "│ flatten_2 (<span style=\"color: #0087ff; text-decoration-color: #0087ff\">Flatten</span>)             │ (<span style=\"color: #00d7ff; text-decoration-color: #00d7ff\">None</span>, <span style=\"color: #00af00; text-decoration-color: #00af00\">784</span>)            │             <span style=\"color: #00af00; text-decoration-color: #00af00\">0</span> │\n",
       "├─────────────────────────────────┼────────────────────────┼───────────────┤\n",
       "│ dense_4 (<span style=\"color: #0087ff; text-decoration-color: #0087ff\">Dense</span>)                 │ (<span style=\"color: #00d7ff; text-decoration-color: #00d7ff\">None</span>, <span style=\"color: #00af00; text-decoration-color: #00af00\">256</span>)            │       <span style=\"color: #00af00; text-decoration-color: #00af00\">200,960</span> │\n",
       "├─────────────────────────────────┼────────────────────────┼───────────────┤\n",
       "│ dense_5 (<span style=\"color: #0087ff; text-decoration-color: #0087ff\">Dense</span>)                 │ (<span style=\"color: #00d7ff; text-decoration-color: #00d7ff\">None</span>, <span style=\"color: #00af00; text-decoration-color: #00af00\">26</span>)             │         <span style=\"color: #00af00; text-decoration-color: #00af00\">6,682</span> │\n",
       "└─────────────────────────────────┴────────────────────────┴───────────────┘\n",
       "</pre>\n"
      ]
     },
     "metadata": {},
     "output_type": "display_data"
    },
    {
     "data": {
      "text/plain": [
       "\u001B[1m Total params: \u001B[0m\u001B[38;5;34m207,642\u001B[0m (811.10 KB)\n"
      ],
      "text/html": [
       "<pre style=\"white-space:pre;overflow-x:auto;line-height:normal;font-family:Menlo,'DejaVu Sans Mono',consolas,'Courier New',monospace\"><span style=\"font-weight: bold\"> Total params: </span><span style=\"color: #00af00; text-decoration-color: #00af00\">207,642</span> (811.10 KB)\n",
       "</pre>\n"
      ]
     },
     "metadata": {},
     "output_type": "display_data"
    },
    {
     "data": {
      "text/plain": [
       "\u001B[1m Trainable params: \u001B[0m\u001B[38;5;34m207,642\u001B[0m (811.10 KB)\n"
      ],
      "text/html": [
       "<pre style=\"white-space:pre;overflow-x:auto;line-height:normal;font-family:Menlo,'DejaVu Sans Mono',consolas,'Courier New',monospace\"><span style=\"font-weight: bold\"> Trainable params: </span><span style=\"color: #00af00; text-decoration-color: #00af00\">207,642</span> (811.10 KB)\n",
       "</pre>\n"
      ]
     },
     "metadata": {},
     "output_type": "display_data"
    },
    {
     "data": {
      "text/plain": [
       "\u001B[1m Non-trainable params: \u001B[0m\u001B[38;5;34m0\u001B[0m (0.00 B)\n"
      ],
      "text/html": [
       "<pre style=\"white-space:pre;overflow-x:auto;line-height:normal;font-family:Menlo,'DejaVu Sans Mono',consolas,'Courier New',monospace\"><span style=\"font-weight: bold\"> Non-trainable params: </span><span style=\"color: #00af00; text-decoration-color: #00af00\">0</span> (0.00 B)\n",
       "</pre>\n"
      ]
     },
     "metadata": {},
     "output_type": "display_data"
    }
   ],
   "execution_count": 68
  },
  {
   "metadata": {
    "ExecuteTime": {
     "end_time": "2024-09-08T10:26:34.663505Z",
     "start_time": "2024-09-08T10:25:54.684143Z"
    }
   },
   "cell_type": "code",
   "source": [
    "time_start = time()\n",
    "history_model0 = model1.fit(train_images, train_labels, batch_size=128, epochs=20, verbose=1, validation_data=(val_images, val_labels), callbacks=[tf.keras.callbacks.EarlyStopping(monitor='val_accuracy', mode='max', patience=5)])\n",
    "time_end = time()\n",
    "elapsed_time(time_start, time_end)"
   ],
   "id": "26e6aad6a91ea51",
   "outputs": [
    {
     "name": "stdout",
     "output_type": "stream",
     "text": [
      "Epoch 1/20\n",
      "\u001B[1m486/486\u001B[0m \u001B[32m━━━━━━━━━━━━━━━━━━━━\u001B[0m\u001B[37m\u001B[0m \u001B[1m4s\u001B[0m 4ms/step - accuracy: 0.6054 - loss: 1.4227 - val_accuracy: 0.7931 - val_loss: 0.6936\n",
      "Epoch 2/20\n",
      "\u001B[1m486/486\u001B[0m \u001B[32m━━━━━━━━━━━━━━━━━━━━\u001B[0m\u001B[37m\u001B[0m \u001B[1m2s\u001B[0m 4ms/step - accuracy: 0.8244 - loss: 0.5979 - val_accuracy: 0.8448 - val_loss: 0.5203\n",
      "Epoch 3/20\n",
      "\u001B[1m486/486\u001B[0m \u001B[32m━━━━━━━━━━━━━━━━━━━━\u001B[0m\u001B[37m\u001B[0m \u001B[1m2s\u001B[0m 4ms/step - accuracy: 0.8670 - loss: 0.4415 - val_accuracy: 0.8665 - val_loss: 0.4492\n",
      "Epoch 4/20\n",
      "\u001B[1m486/486\u001B[0m \u001B[32m━━━━━━━━━━━━━━━━━━━━\u001B[0m\u001B[37m\u001B[0m \u001B[1m2s\u001B[0m 4ms/step - accuracy: 0.8853 - loss: 0.3767 - val_accuracy: 0.8795 - val_loss: 0.4030\n",
      "Epoch 5/20\n",
      "\u001B[1m486/486\u001B[0m \u001B[32m━━━━━━━━━━━━━━━━━━━━\u001B[0m\u001B[37m\u001B[0m \u001B[1m2s\u001B[0m 4ms/step - accuracy: 0.9020 - loss: 0.3203 - val_accuracy: 0.8747 - val_loss: 0.3993\n",
      "Epoch 6/20\n",
      "\u001B[1m486/486\u001B[0m \u001B[32m━━━━━━━━━━━━━━━━━━━━\u001B[0m\u001B[37m\u001B[0m \u001B[1m2s\u001B[0m 4ms/step - accuracy: 0.9100 - loss: 0.2890 - val_accuracy: 0.8827 - val_loss: 0.3761\n",
      "Epoch 7/20\n",
      "\u001B[1m486/486\u001B[0m \u001B[32m━━━━━━━━━━━━━━━━━━━━\u001B[0m\u001B[37m\u001B[0m \u001B[1m3s\u001B[0m 6ms/step - accuracy: 0.9167 - loss: 0.2603 - val_accuracy: 0.8801 - val_loss: 0.3793\n",
      "Epoch 8/20\n",
      "\u001B[1m486/486\u001B[0m \u001B[32m━━━━━━━━━━━━━━━━━━━━\u001B[0m\u001B[37m\u001B[0m \u001B[1m3s\u001B[0m 5ms/step - accuracy: 0.9246 - loss: 0.2363 - val_accuracy: 0.8870 - val_loss: 0.3615\n",
      "Epoch 9/20\n",
      "\u001B[1m486/486\u001B[0m \u001B[32m━━━━━━━━━━━━━━━━━━━━\u001B[0m\u001B[37m\u001B[0m \u001B[1m3s\u001B[0m 5ms/step - accuracy: 0.9311 - loss: 0.2142 - val_accuracy: 0.8911 - val_loss: 0.3594\n",
      "Epoch 10/20\n",
      "\u001B[1m486/486\u001B[0m \u001B[32m━━━━━━━━━━━━━━━━━━━━\u001B[0m\u001B[37m\u001B[0m \u001B[1m2s\u001B[0m 5ms/step - accuracy: 0.9360 - loss: 0.1973 - val_accuracy: 0.8905 - val_loss: 0.3561\n",
      "Epoch 11/20\n",
      "\u001B[1m486/486\u001B[0m \u001B[32m━━━━━━━━━━━━━━━━━━━━\u001B[0m\u001B[37m\u001B[0m \u001B[1m2s\u001B[0m 4ms/step - accuracy: 0.9400 - loss: 0.1852 - val_accuracy: 0.8906 - val_loss: 0.3612\n",
      "Epoch 12/20\n",
      "\u001B[1m486/486\u001B[0m \u001B[32m━━━━━━━━━━━━━━━━━━━━\u001B[0m\u001B[37m\u001B[0m \u001B[1m2s\u001B[0m 4ms/step - accuracy: 0.9439 - loss: 0.1702 - val_accuracy: 0.8889 - val_loss: 0.3735\n",
      "Epoch 13/20\n",
      "\u001B[1m486/486\u001B[0m \u001B[32m━━━━━━━━━━━━━━━━━━━━\u001B[0m\u001B[37m\u001B[0m \u001B[1m2s\u001B[0m 4ms/step - accuracy: 0.9491 - loss: 0.1579 - val_accuracy: 0.8947 - val_loss: 0.3566\n",
      "Epoch 14/20\n",
      "\u001B[1m486/486\u001B[0m \u001B[32m━━━━━━━━━━━━━━━━━━━━\u001B[0m\u001B[37m\u001B[0m \u001B[1m2s\u001B[0m 4ms/step - accuracy: 0.9503 - loss: 0.1493 - val_accuracy: 0.8911 - val_loss: 0.3689\n",
      "Epoch 15/20\n",
      "\u001B[1m486/486\u001B[0m \u001B[32m━━━━━━━━━━━━━━━━━━━━\u001B[0m\u001B[37m\u001B[0m \u001B[1m2s\u001B[0m 4ms/step - accuracy: 0.9508 - loss: 0.1431 - val_accuracy: 0.8890 - val_loss: 0.3751\n",
      "Epoch 16/20\n",
      "\u001B[1m486/486\u001B[0m \u001B[32m━━━━━━━━━━━━━━━━━━━━\u001B[0m\u001B[37m\u001B[0m \u001B[1m2s\u001B[0m 4ms/step - accuracy: 0.9574 - loss: 0.1304 - val_accuracy: 0.8929 - val_loss: 0.3700\n",
      "Epoch 17/20\n",
      "\u001B[1m486/486\u001B[0m \u001B[32m━━━━━━━━━━━━━━━━━━━━\u001B[0m\u001B[37m\u001B[0m \u001B[1m2s\u001B[0m 4ms/step - accuracy: 0.9549 - loss: 0.1292 - val_accuracy: 0.8919 - val_loss: 0.3777\n",
      "Epoch 18/20\n",
      "\u001B[1m486/486\u001B[0m \u001B[32m━━━━━━━━━━━━━━━━━━━━\u001B[0m\u001B[37m\u001B[0m \u001B[1m2s\u001B[0m 4ms/step - accuracy: 0.9602 - loss: 0.1152 - val_accuracy: 0.8879 - val_loss: 0.3873\n",
      "Time spent training: 00:00:39\n"
     ]
    }
   ],
   "execution_count": 69
  },
  {
   "metadata": {
    "ExecuteTime": {
     "end_time": "2024-09-08T10:26:35.219170Z",
     "start_time": "2024-09-08T10:26:34.664515Z"
    }
   },
   "cell_type": "code",
   "source": [
    "history_model1_df = pd.DataFrame(history_model0.history)\n",
    "plot_loss(history_model1_df)\n",
    "plot_accuracy(history_model1_df)"
   ],
   "id": "d347ed4ee7bf50ee",
   "outputs": [
    {
     "data": {
      "text/plain": [
       "<Figure size 1200x800 with 1 Axes>"
      ],
      "image/png": "[encoded data removed]"
     },
     "metadata": {},
     "output_type": "display_data"
    },
    {
     "data": {
      "text/plain": [
       "<Figure size 1200x800 with 1 Axes>"
      ],
      "image/png": "[encoded data removed]"
     },
     "metadata": {},
     "output_type": "display_data"
    }
   ],
   "execution_count": 70
  },
  {
   "metadata": {
    "ExecuteTime": {
     "end_time": "2024-09-08T10:26:39.673963Z",
     "start_time": "2024-09-08T10:26:35.219170Z"
    }
   },
   "cell_type": "code",
   "source": [
    "predictions_train_model1 = np.argmax(model1.predict(train_images), axis=-1)\n",
    "predictions_test_model1 = np.argmax(model1.predict(test_images), axis=-1)"
   ],
   "id": "35ba7d1129476621",
   "outputs": [
    {
     "name": "stdout",
     "output_type": "stream",
     "text": [
      "\u001B[1m1943/1943\u001B[0m \u001B[32m━━━━━━━━━━━━━━━━━━━━\u001B[0m\u001B[37m\u001B[0m \u001B[1m3s\u001B[0m 1ms/step\n",
      "\u001B[1m417/417\u001B[0m \u001B[32m━━━━━━━━━━━━━━━━━━━━\u001B[0m\u001B[37m\u001B[0m \u001B[1m0s\u001B[0m 1ms/step\n"
     ]
    }
   ],
   "execution_count": 71
  },
  {
   "metadata": {
    "ExecuteTime": {
     "end_time": "2024-09-08T10:26:39.687561Z",
     "start_time": "2024-09-08T10:26:39.673963Z"
    }
   },
   "cell_type": "code",
   "source": "print_accuracy_scores(train_labels, test_labels, predictions_train_model1, predictions_test_model1)",
   "id": "64a304da1ddfcc74",
   "outputs": [
    {
     "name": "stdout",
     "output_type": "stream",
     "text": [
      "Training set accuracy:   0.967\n",
      "Test set accuracy:       0.884\n"
     ]
    }
   ],
   "execution_count": 72
  },
  {
   "metadata": {},
   "cell_type": "markdown",
   "source": [
    "# Modello 2\n",
    "\n",
    "Questo modello rappresenta la prima rete CNN. Rispetto al modello 0 vengono aggiunti:\n",
    "- un layer convoluzionale (viene applicato il tuning sul filtro del layer)\n",
    "- un fattore di regoralizzazione L2 da apliccare ai layer di Dense"
   ],
   "id": "be2814335b7dbe48"
  },
  {
   "metadata": {
    "ExecuteTime": {
     "end_time": "2024-09-08T10:26:39.698831Z",
     "start_time": "2024-09-08T10:26:39.687561Z"
    }
   },
   "cell_type": "code",
   "source": [
    "def model2_builder(hp): \n",
    "    k = hp.Choice(\"L2\", l2)\n",
    "    model2 = tf.keras.Sequential()\n",
    "    model2.add(tf.keras.layers.Rescaling(1./255, input_shape=(28, 28, 1)))\n",
    "    model2.add(tf.keras.layers.Conv2D(hp.Choice(\"filter\", filter), 3, padding=\"same\", activation=\"relu\"))\n",
    "    model2.add(tf.keras.layers.MaxPooling2D())\n",
    "    model2.add(tf.keras.layers.Flatten())\n",
    "    model2.add(tf.keras.layers.Dense(hp.Choice(\"dense_units\", dense_units), activation=\"relu\", kernel_regularizer=tf.keras.regularizers.L2(k)))\n",
    "    model2.add(tf.keras.layers.Dense(26, activation=\"softmax\", kernel_regularizer=tf.keras.regularizers.L2(k)))\n",
    "    \n",
    "    model2.compile(optimizer=\"adam\", loss=\"sparse_categorical_crossentropy\", metrics=[\"accuracy\"])\n",
    "\n",
    "    return model2"
   ],
   "id": "615aa80c400919fd",
   "outputs": [],
   "execution_count": 73
  },
  {
   "metadata": {
    "ExecuteTime": {
     "end_time": "2024-09-08T10:26:39.730636Z",
     "start_time": "2024-09-08T10:26:39.698831Z"
    }
   },
   "cell_type": "code",
   "source": [
    "#tuning hyperparameters\n",
    "tuner = kt.RandomSearch(model2_builder, kt.Objective('val_accuracy', direction='max'), 10, 42, project_name='tuners/nn2')\n",
    "tuner.search(train_images, train_labels, epochs=20, validation_data=(val_images, val_labels), callbacks=[tf.keras.callbacks.EarlyStopping(monitor='val_accuracy', mode='max', patience=5)], batch_size=128)\n",
    "best_hps=tuner.get_best_hyperparameters(num_trials=1)[0]"
   ],
   "id": "9aea441a910fa71f",
   "outputs": [
    {
     "name": "stdout",
     "output_type": "stream",
     "text": [
      "Reloading Tuner from .\\tuners/nn2\\tuner0.json\n"
     ]
    }
   ],
   "execution_count": 74
  },
  {
   "metadata": {
    "ExecuteTime": {
     "end_time": "2024-09-08T10:26:39.736428Z",
     "start_time": "2024-09-08T10:26:39.730636Z"
    }
   },
   "cell_type": "code",
   "source": [
    "print(\"Best Dense units: \", best_hps.get(\"dense_units\"))\n",
    "print(\"Best L2 value: \", best_hps.get(\"L2\"))\n",
    "print(\"Best Filter: \", best_hps.get(\"filter\"))"
   ],
   "id": "2397556e571f6ce8",
   "outputs": [
    {
     "name": "stdout",
     "output_type": "stream",
     "text": [
      "Best Dense units:  256\n",
      "Best L2 value:  0.0001\n",
      "Best Filter:  16\n"
     ]
    }
   ],
   "execution_count": 75
  },
  {
   "metadata": {
    "ExecuteTime": {
     "end_time": "2024-09-08T10:26:39.805997Z",
     "start_time": "2024-09-08T10:26:39.736428Z"
    }
   },
   "cell_type": "code",
   "source": [
    "model2 = tuner.hypermodel.build(best_hps)\n",
    "model2.summary()"
   ],
   "id": "157bc9cefdb54918",
   "outputs": [
    {
     "name": "stderr",
     "output_type": "stream",
     "text": [
      "C:\\Users\\Damiano\\PycharmProjects\\machineLearning\\.venv\\Lib\\site-packages\\keras\\src\\layers\\preprocessing\\tf_data_layer.py:18: UserWarning: Do not pass an `input_shape`/`input_dim` argument to a layer. When using Sequential models, prefer using an `Input(shape)` object as the first layer in the model instead.\n",
      "  super().__init__(**kwargs)\n"
     ]
    },
    {
     "data": {
      "text/plain": [
       "\u001B[1mModel: \"sequential_3\"\u001B[0m\n"
      ],
      "text/html": [
       "<pre style=\"white-space:pre;overflow-x:auto;line-height:normal;font-family:Menlo,'DejaVu Sans Mono',consolas,'Courier New',monospace\"><span style=\"font-weight: bold\">Model: \"sequential_3\"</span>\n",
       "</pre>\n"
      ]
     },
     "metadata": {},
     "output_type": "display_data"
    },
    {
     "data": {
      "text/plain": [
       "┏━━━━━━━━━━━━━━━━━━━━━━━━━━━━━━━━━┳━━━━━━━━━━━━━━━━━━━━━━━━┳━━━━━━━━━━━━━━━┓\n",
       "┃\u001B[1m \u001B[0m\u001B[1mLayer (type)                   \u001B[0m\u001B[1m \u001B[0m┃\u001B[1m \u001B[0m\u001B[1mOutput Shape          \u001B[0m\u001B[1m \u001B[0m┃\u001B[1m \u001B[0m\u001B[1m      Param #\u001B[0m\u001B[1m \u001B[0m┃\n",
       "┡━━━━━━━━━━━━━━━━━━━━━━━━━━━━━━━━━╇━━━━━━━━━━━━━━━━━━━━━━━━╇━━━━━━━━━━━━━━━┩\n",
       "│ rescaling_3 (\u001B[38;5;33mRescaling\u001B[0m)         │ (\u001B[38;5;45mNone\u001B[0m, \u001B[38;5;34m28\u001B[0m, \u001B[38;5;34m28\u001B[0m, \u001B[38;5;34m1\u001B[0m)      │             \u001B[38;5;34m0\u001B[0m │\n",
       "├─────────────────────────────────┼────────────────────────┼───────────────┤\n",
       "│ conv2d_4 (\u001B[38;5;33mConv2D\u001B[0m)               │ (\u001B[38;5;45mNone\u001B[0m, \u001B[38;5;34m28\u001B[0m, \u001B[38;5;34m28\u001B[0m, \u001B[38;5;34m16\u001B[0m)     │           \u001B[38;5;34m160\u001B[0m │\n",
       "├─────────────────────────────────┼────────────────────────┼───────────────┤\n",
       "│ max_pooling2d_4 (\u001B[38;5;33mMaxPooling2D\u001B[0m)  │ (\u001B[38;5;45mNone\u001B[0m, \u001B[38;5;34m14\u001B[0m, \u001B[38;5;34m14\u001B[0m, \u001B[38;5;34m16\u001B[0m)     │             \u001B[38;5;34m0\u001B[0m │\n",
       "├─────────────────────────────────┼────────────────────────┼───────────────┤\n",
       "│ flatten_3 (\u001B[38;5;33mFlatten\u001B[0m)             │ (\u001B[38;5;45mNone\u001B[0m, \u001B[38;5;34m3136\u001B[0m)           │             \u001B[38;5;34m0\u001B[0m │\n",
       "├─────────────────────────────────┼────────────────────────┼───────────────┤\n",
       "│ dense_6 (\u001B[38;5;33mDense\u001B[0m)                 │ (\u001B[38;5;45mNone\u001B[0m, \u001B[38;5;34m256\u001B[0m)            │       \u001B[38;5;34m803,072\u001B[0m │\n",
       "├─────────────────────────────────┼────────────────────────┼───────────────┤\n",
       "│ dense_7 (\u001B[38;5;33mDense\u001B[0m)                 │ (\u001B[38;5;45mNone\u001B[0m, \u001B[38;5;34m26\u001B[0m)             │         \u001B[38;5;34m6,682\u001B[0m │\n",
       "└─────────────────────────────────┴────────────────────────┴───────────────┘\n"
      ],
      "text/html": [
       "<pre style=\"white-space:pre;overflow-x:auto;line-height:normal;font-family:Menlo,'DejaVu Sans Mono',consolas,'Courier New',monospace\">┏━━━━━━━━━━━━━━━━━━━━━━━━━━━━━━━━━┳━━━━━━━━━━━━━━━━━━━━━━━━┳━━━━━━━━━━━━━━━┓\n",
       "┃<span style=\"font-weight: bold\"> Layer (type)                    </span>┃<span style=\"font-weight: bold\"> Output Shape           </span>┃<span style=\"font-weight: bold\">       Param # </span>┃\n",
       "┡━━━━━━━━━━━━━━━━━━━━━━━━━━━━━━━━━╇━━━━━━━━━━━━━━━━━━━━━━━━╇━━━━━━━━━━━━━━━┩\n",
       "│ rescaling_3 (<span style=\"color: #0087ff; text-decoration-color: #0087ff\">Rescaling</span>)         │ (<span style=\"color: #00d7ff; text-decoration-color: #00d7ff\">None</span>, <span style=\"color: #00af00; text-decoration-color: #00af00\">28</span>, <span style=\"color: #00af00; text-decoration-color: #00af00\">28</span>, <span style=\"color: #00af00; text-decoration-color: #00af00\">1</span>)      │             <span style=\"color: #00af00; text-decoration-color: #00af00\">0</span> │\n",
       "├─────────────────────────────────┼────────────────────────┼───────────────┤\n",
       "│ conv2d_4 (<span style=\"color: #0087ff; text-decoration-color: #0087ff\">Conv2D</span>)               │ (<span style=\"color: #00d7ff; text-decoration-color: #00d7ff\">None</span>, <span style=\"color: #00af00; text-decoration-color: #00af00\">28</span>, <span style=\"color: #00af00; text-decoration-color: #00af00\">28</span>, <span style=\"color: #00af00; text-decoration-color: #00af00\">16</span>)     │           <span style=\"color: #00af00; text-decoration-color: #00af00\">160</span> │\n",
       "├─────────────────────────────────┼────────────────────────┼───────────────┤\n",
       "│ max_pooling2d_4 (<span style=\"color: #0087ff; text-decoration-color: #0087ff\">MaxPooling2D</span>)  │ (<span style=\"color: #00d7ff; text-decoration-color: #00d7ff\">None</span>, <span style=\"color: #00af00; text-decoration-color: #00af00\">14</span>, <span style=\"color: #00af00; text-decoration-color: #00af00\">14</span>, <span style=\"color: #00af00; text-decoration-color: #00af00\">16</span>)     │             <span style=\"color: #00af00; text-decoration-color: #00af00\">0</span> │\n",
       "├─────────────────────────────────┼────────────────────────┼───────────────┤\n",
       "│ flatten_3 (<span style=\"color: #0087ff; text-decoration-color: #0087ff\">Flatten</span>)             │ (<span style=\"color: #00d7ff; text-decoration-color: #00d7ff\">None</span>, <span style=\"color: #00af00; text-decoration-color: #00af00\">3136</span>)           │             <span style=\"color: #00af00; text-decoration-color: #00af00\">0</span> │\n",
       "├─────────────────────────────────┼────────────────────────┼───────────────┤\n",
       "│ dense_6 (<span style=\"color: #0087ff; text-decoration-color: #0087ff\">Dense</span>)                 │ (<span style=\"color: #00d7ff; text-decoration-color: #00d7ff\">None</span>, <span style=\"color: #00af00; text-decoration-color: #00af00\">256</span>)            │       <span style=\"color: #00af00; text-decoration-color: #00af00\">803,072</span> │\n",
       "├─────────────────────────────────┼────────────────────────┼───────────────┤\n",
       "│ dense_7 (<span style=\"color: #0087ff; text-decoration-color: #0087ff\">Dense</span>)                 │ (<span style=\"color: #00d7ff; text-decoration-color: #00d7ff\">None</span>, <span style=\"color: #00af00; text-decoration-color: #00af00\">26</span>)             │         <span style=\"color: #00af00; text-decoration-color: #00af00\">6,682</span> │\n",
       "└─────────────────────────────────┴────────────────────────┴───────────────┘\n",
       "</pre>\n"
      ]
     },
     "metadata": {},
     "output_type": "display_data"
    },
    {
     "data": {
      "text/plain": [
       "\u001B[1m Total params: \u001B[0m\u001B[38;5;34m809,914\u001B[0m (3.09 MB)\n"
      ],
      "text/html": [
       "<pre style=\"white-space:pre;overflow-x:auto;line-height:normal;font-family:Menlo,'DejaVu Sans Mono',consolas,'Courier New',monospace\"><span style=\"font-weight: bold\"> Total params: </span><span style=\"color: #00af00; text-decoration-color: #00af00\">809,914</span> (3.09 MB)\n",
       "</pre>\n"
      ]
     },
     "metadata": {},
     "output_type": "display_data"
    },
    {
     "data": {
      "text/plain": [
       "\u001B[1m Trainable params: \u001B[0m\u001B[38;5;34m809,914\u001B[0m (3.09 MB)\n"
      ],
      "text/html": [
       "<pre style=\"white-space:pre;overflow-x:auto;line-height:normal;font-family:Menlo,'DejaVu Sans Mono',consolas,'Courier New',monospace\"><span style=\"font-weight: bold\"> Trainable params: </span><span style=\"color: #00af00; text-decoration-color: #00af00\">809,914</span> (3.09 MB)\n",
       "</pre>\n"
      ]
     },
     "metadata": {},
     "output_type": "display_data"
    },
    {
     "data": {
      "text/plain": [
       "\u001B[1m Non-trainable params: \u001B[0m\u001B[38;5;34m0\u001B[0m (0.00 B)\n"
      ],
      "text/html": [
       "<pre style=\"white-space:pre;overflow-x:auto;line-height:normal;font-family:Menlo,'DejaVu Sans Mono',consolas,'Courier New',monospace\"><span style=\"font-weight: bold\"> Non-trainable params: </span><span style=\"color: #00af00; text-decoration-color: #00af00\">0</span> (0.00 B)\n",
       "</pre>\n"
      ]
     },
     "metadata": {},
     "output_type": "display_data"
    }
   ],
   "execution_count": 76
  },
  {
   "metadata": {
    "ExecuteTime": {
     "end_time": "2024-09-08T10:30:32.572450Z",
     "start_time": "2024-09-08T10:26:39.805997Z"
    }
   },
   "cell_type": "code",
   "source": "history_model2 = model2.fit(train_images, train_labels, batch_size=128, epochs=20, verbose=1, validation_data=(val_images, val_labels), callbacks=[tf.keras.callbacks.EarlyStopping(monitor='val_accuracy', mode='max', patience=5)])",
   "id": "14cca999529fd63e",
   "outputs": [
    {
     "name": "stdout",
     "output_type": "stream",
     "text": [
      "Epoch 1/20\n",
      "\u001B[1m486/486\u001B[0m \u001B[32m━━━━━━━━━━━━━━━━━━━━\u001B[0m\u001B[37m\u001B[0m \u001B[1m13s\u001B[0m 24ms/step - accuracy: 0.6410 - loss: 1.3336 - val_accuracy: 0.8541 - val_loss: 0.5507\n",
      "Epoch 2/20\n",
      "\u001B[1m486/486\u001B[0m \u001B[32m━━━━━━━━━━━━━━━━━━━━\u001B[0m\u001B[37m\u001B[0m \u001B[1m12s\u001B[0m 24ms/step - accuracy: 0.8737 - loss: 0.4839 - val_accuracy: 0.8908 - val_loss: 0.4385\n",
      "Epoch 3/20\n",
      "\u001B[1m486/486\u001B[0m \u001B[32m━━━━━━━━━━━━━━━━━━━━\u001B[0m\u001B[37m\u001B[0m \u001B[1m12s\u001B[0m 24ms/step - accuracy: 0.9029 - loss: 0.3896 - val_accuracy: 0.8988 - val_loss: 0.4022\n",
      "Epoch 4/20\n",
      "\u001B[1m486/486\u001B[0m \u001B[32m━━━━━━━━━━━━━━━━━━━━\u001B[0m\u001B[37m\u001B[0m \u001B[1m11s\u001B[0m 24ms/step - accuracy: 0.9179 - loss: 0.3393 - val_accuracy: 0.9055 - val_loss: 0.3980\n",
      "Epoch 5/20\n",
      "\u001B[1m486/486\u001B[0m \u001B[32m━━━━━━━━━━━━━━━━━━━━\u001B[0m\u001B[37m\u001B[0m \u001B[1m12s\u001B[0m 24ms/step - accuracy: 0.9261 - loss: 0.3147 - val_accuracy: 0.9069 - val_loss: 0.3815\n",
      "Epoch 6/20\n",
      "\u001B[1m486/486\u001B[0m \u001B[32m━━━━━━━━━━━━━━━━━━━━\u001B[0m\u001B[37m\u001B[0m \u001B[1m11s\u001B[0m 23ms/step - accuracy: 0.9320 - loss: 0.2922 - val_accuracy: 0.9085 - val_loss: 0.3743\n",
      "Epoch 7/20\n",
      "\u001B[1m486/486\u001B[0m \u001B[32m━━━━━━━━━━━━━━━━━━━━\u001B[0m\u001B[37m\u001B[0m \u001B[1m12s\u001B[0m 24ms/step - accuracy: 0.9372 - loss: 0.2760 - val_accuracy: 0.9084 - val_loss: 0.3843\n",
      "Epoch 8/20\n",
      "\u001B[1m486/486\u001B[0m \u001B[32m━━━━━━━━━━━━━━━━━━━━\u001B[0m\u001B[37m\u001B[0m \u001B[1m12s\u001B[0m 24ms/step - accuracy: 0.9397 - loss: 0.2667 - val_accuracy: 0.9092 - val_loss: 0.3741\n",
      "Epoch 9/20\n",
      "\u001B[1m486/486\u001B[0m \u001B[32m━━━━━━━━━━━━━━━━━━━━\u001B[0m\u001B[37m\u001B[0m \u001B[1m11s\u001B[0m 23ms/step - accuracy: 0.9464 - loss: 0.2439 - val_accuracy: 0.9117 - val_loss: 0.3602\n",
      "Epoch 10/20\n",
      "\u001B[1m486/486\u001B[0m \u001B[32m━━━━━━━━━━━━━━━━━━━━\u001B[0m\u001B[37m\u001B[0m \u001B[1m12s\u001B[0m 24ms/step - accuracy: 0.9497 - loss: 0.2380 - val_accuracy: 0.9139 - val_loss: 0.3663\n",
      "Epoch 11/20\n",
      "\u001B[1m486/486\u001B[0m \u001B[32m━━━━━━━━━━━━━━━━━━━━\u001B[0m\u001B[37m\u001B[0m \u001B[1m11s\u001B[0m 24ms/step - accuracy: 0.9531 - loss: 0.2274 - val_accuracy: 0.9128 - val_loss: 0.3716\n",
      "Epoch 12/20\n",
      "\u001B[1m486/486\u001B[0m \u001B[32m━━━━━━━━━━━━━━━━━━━━\u001B[0m\u001B[37m\u001B[0m \u001B[1m12s\u001B[0m 24ms/step - accuracy: 0.9549 - loss: 0.2227 - val_accuracy: 0.9148 - val_loss: 0.3677\n",
      "Epoch 13/20\n",
      "\u001B[1m486/486\u001B[0m \u001B[32m━━━━━━━━━━━━━━━━━━━━\u001B[0m\u001B[37m\u001B[0m \u001B[1m12s\u001B[0m 24ms/step - accuracy: 0.9564 - loss: 0.2169 - val_accuracy: 0.9125 - val_loss: 0.3749\n",
      "Epoch 14/20\n",
      "\u001B[1m486/486\u001B[0m \u001B[32m━━━━━━━━━━━━━━━━━━━━\u001B[0m\u001B[37m\u001B[0m \u001B[1m11s\u001B[0m 23ms/step - accuracy: 0.9573 - loss: 0.2104 - val_accuracy: 0.9136 - val_loss: 0.3690\n",
      "Epoch 15/20\n",
      "\u001B[1m486/486\u001B[0m \u001B[32m━━━━━━━━━━━━━━━━━━━━\u001B[0m\u001B[37m\u001B[0m \u001B[1m12s\u001B[0m 24ms/step - accuracy: 0.9592 - loss: 0.2041 - val_accuracy: 0.9167 - val_loss: 0.3620\n",
      "Epoch 16/20\n",
      "\u001B[1m486/486\u001B[0m \u001B[32m━━━━━━━━━━━━━━━━━━━━\u001B[0m\u001B[37m\u001B[0m \u001B[1m11s\u001B[0m 24ms/step - accuracy: 0.9642 - loss: 0.1929 - val_accuracy: 0.9104 - val_loss: 0.3819\n",
      "Epoch 17/20\n",
      "\u001B[1m486/486\u001B[0m \u001B[32m━━━━━━━━━━━━━━━━━━━━\u001B[0m\u001B[37m\u001B[0m \u001B[1m12s\u001B[0m 24ms/step - accuracy: 0.9621 - loss: 0.1969 - val_accuracy: 0.9121 - val_loss: 0.3842\n",
      "Epoch 18/20\n",
      "\u001B[1m486/486\u001B[0m \u001B[32m━━━━━━━━━━━━━━━━━━━━\u001B[0m\u001B[37m\u001B[0m \u001B[1m12s\u001B[0m 24ms/step - accuracy: 0.9635 - loss: 0.1921 - val_accuracy: 0.9118 - val_loss: 0.3821\n",
      "Epoch 19/20\n",
      "\u001B[1m486/486\u001B[0m \u001B[32m━━━━━━━━━━━━━━━━━━━━\u001B[0m\u001B[37m\u001B[0m \u001B[1m11s\u001B[0m 23ms/step - accuracy: 0.9647 - loss: 0.1888 - val_accuracy: 0.9113 - val_loss: 0.3872\n",
      "Epoch 20/20\n",
      "\u001B[1m486/486\u001B[0m \u001B[32m━━━━━━━━━━━━━━━━━━━━\u001B[0m\u001B[37m\u001B[0m \u001B[1m12s\u001B[0m 24ms/step - accuracy: 0.9655 - loss: 0.1860 - val_accuracy: 0.9117 - val_loss: 0.3894\n"
     ]
    }
   ],
   "execution_count": 77
  },
  {
   "metadata": {
    "ExecuteTime": {
     "end_time": "2024-09-08T10:30:32.853419Z",
     "start_time": "2024-09-08T10:30:32.572450Z"
    }
   },
   "cell_type": "code",
   "source": [
    "history_model2_df = pd.DataFrame(history_model2.history)\n",
    "plot_loss(history_model2_df)\n",
    "plot_accuracy(history_model2_df)"
   ],
   "id": "ad4ddbf1a5bc19c4",
   "outputs": [
    {
     "data": {
      "text/plain": [
       "<Figure size 1200x800 with 1 Axes>"
      ],
      "image/png": "[encoded data removed]"
     },
     "metadata": {},
     "output_type": "display_data"
    },
    {
     "data": {
      "text/plain": [
       "<Figure size 1200x800 with 1 Axes>"
      ],
      "image/png": "[encoded data removed]"
     },
     "metadata": {},
     "output_type": "display_data"
    }
   ],
   "execution_count": 78
  },
  {
   "metadata": {
    "ExecuteTime": {
     "end_time": "2024-09-08T10:30:39.154801Z",
     "start_time": "2024-09-08T10:30:32.854425Z"
    }
   },
   "cell_type": "code",
   "source": [
    "predictions_train_model2 = np.argmax(model2.predict(train_images), axis=-1)\n",
    "predictions_test_model2 = np.argmax(model2.predict(test_images), axis=-1)"
   ],
   "id": "6eab00d0e1014a5b",
   "outputs": [
    {
     "name": "stdout",
     "output_type": "stream",
     "text": [
      "\u001B[1m1943/1943\u001B[0m \u001B[32m━━━━━━━━━━━━━━━━━━━━\u001B[0m\u001B[37m\u001B[0m \u001B[1m4s\u001B[0m 2ms/step\n",
      "\u001B[1m417/417\u001B[0m \u001B[32m━━━━━━━━━━━━━━━━━━━━\u001B[0m\u001B[37m\u001B[0m \u001B[1m1s\u001B[0m 2ms/step\n"
     ]
    }
   ],
   "execution_count": 79
  },
  {
   "metadata": {
    "ExecuteTime": {
     "end_time": "2024-09-08T10:30:42.441034Z",
     "start_time": "2024-09-08T10:30:42.427106Z"
    }
   },
   "cell_type": "code",
   "source": "print_accuracy_scores(train_labels, test_labels, predictions_train_model2, predictions_test_model2)",
   "id": "f98aeda5773c1819",
   "outputs": [
    {
     "name": "stdout",
     "output_type": "stream",
     "text": [
      "Training set accuracy:   0.968\n",
      "Test set accuracy:       0.908\n"
     ]
    }
   ],
   "execution_count": 81
  },
  {
   "metadata": {},
   "cell_type": "markdown",
   "source": [
    "# Modello 3\n",
    "\n",
    "Per il terzo modello, viene introdotto un ulteriore layer convoluzionale e un layer di Dropout per marginare l'overfitting. Si hanno due set di filtri separati da applicare ai layer convoluzionali, e i valori per essi vengono scelti attraverso il tuning. Anche il rate di dropout è soggetto a tuning."
   ],
   "id": "c205de223b158282"
  },
  {
   "metadata": {
    "ExecuteTime": {
     "end_time": "2024-09-08T10:30:42.449762Z",
     "start_time": "2024-09-08T10:30:42.441034Z"
    }
   },
   "cell_type": "code",
   "source": [
    "def model3_builder(hp): \n",
    "    filters_index = hp.Choice(\"filters_index\", [0, 1])\n",
    "    k = hp.Choice(\"L2\", l2)\n",
    "    model3 = tf.keras.Sequential()\n",
    "    model3.add(tf.keras.layers.Rescaling(1./255, input_shape=(28,28,1)))\n",
    "    model3.add(tf.keras.layers.Conv2D(filters[filters_index][0], 3, padding=\"same\", activation=\"relu\"))\n",
    "    model3.add(tf.keras.layers.MaxPooling2D())\n",
    "    model3.add(tf.keras.layers.Conv2D(filters[filters_index][1], 3, padding=\"same\", activation=\"relu\"))\n",
    "    model3.add(tf.keras.layers.MaxPooling2D())\n",
    "    model3.add(tf.keras.layers.Dropout(hp.Choice(\"dropout_rate\", dropouts_rate)))\n",
    "    model3.add(tf.keras.layers.Flatten())\n",
    "    model3.add(tf.keras.layers.Dense(hp.Choice(\"dense_units\", dense_units), activation=\"relu\", kernel_regularizer=tf.keras.regularizers.L2(k)))\n",
    "    model3.add(tf.keras.layers.Dense(26, activation=\"softmax\", kernel_regularizer=tf.keras.regularizers.L2(k)))\n",
    "    \n",
    "    model3.compile(optimizer=\"adam\", loss=\"sparse_categorical_crossentropy\", metrics=[\"accuracy\"])\n",
    "\n",
    "    return model3"
   ],
   "id": "874ee0fe9c76ae45",
   "outputs": [],
   "execution_count": 82
  },
  {
   "metadata": {
    "ExecuteTime": {
     "end_time": "2024-09-08T10:30:42.479840Z",
     "start_time": "2024-09-08T10:30:42.449762Z"
    }
   },
   "cell_type": "code",
   "source": [
    "tuner = kt.RandomSearch(model3_builder, kt.Objective('val_accuracy', direction='max'), 10, 42, project_name='tuners/nn3')\n",
    "tuner.search(train_images, train_labels, epochs=20, validation_data=(val_images, val_labels), callbacks=[tf.keras.callbacks.EarlyStopping(monitor='val_accuracy', mode='max', patience=5)], batch_size=128)\n",
    "best_hps=tuner.get_best_hyperparameters(num_trials=1)[0]"
   ],
   "id": "712f23f877f02d56",
   "outputs": [
    {
     "name": "stdout",
     "output_type": "stream",
     "text": [
      "Reloading Tuner from .\\tuners/nn3\\tuner0.json\n"
     ]
    }
   ],
   "execution_count": 83
  },
  {
   "metadata": {
    "ExecuteTime": {
     "end_time": "2024-09-08T10:30:42.484366Z",
     "start_time": "2024-09-08T10:30:42.479840Z"
    }
   },
   "cell_type": "code",
   "source": [
    "print(\"Best Filter: \", filters[best_hps.get(\"filters_index\")])\n",
    "print(\"Best Dropout Rate: \", best_hps.get(\"dropout_rate\"))\n",
    "print(\"Best Dense units: \", best_hps.get(\"dense_units\"))\n",
    "print(\"Best L2 value: \",  best_hps.get(\"L2\"))"
   ],
   "id": "d3f727d090619d5c",
   "outputs": [
    {
     "name": "stdout",
     "output_type": "stream",
     "text": [
      "Best Filter:  [32, 64, 128]\n",
      "Best Dropout Rate:  0.5\n",
      "Best Dense units:  64\n",
      "Best L2 value:  0.001\n"
     ]
    }
   ],
   "execution_count": 84
  },
  {
   "metadata": {
    "ExecuteTime": {
     "end_time": "2024-09-08T10:30:42.557280Z",
     "start_time": "2024-09-08T10:30:42.484366Z"
    }
   },
   "cell_type": "code",
   "source": [
    "model3 = tuner.hypermodel.build(best_hps)\n",
    "model3.summary()"
   ],
   "id": "38b4b0c6013c42b2",
   "outputs": [
    {
     "name": "stderr",
     "output_type": "stream",
     "text": [
      "C:\\Users\\Damiano\\PycharmProjects\\machineLearning\\.venv\\Lib\\site-packages\\keras\\src\\layers\\preprocessing\\tf_data_layer.py:18: UserWarning: Do not pass an `input_shape`/`input_dim` argument to a layer. When using Sequential models, prefer using an `Input(shape)` object as the first layer in the model instead.\n",
      "  super().__init__(**kwargs)\n"
     ]
    },
    {
     "data": {
      "text/plain": [
       "\u001B[1mModel: \"sequential_4\"\u001B[0m\n"
      ],
      "text/html": [
       "<pre style=\"white-space:pre;overflow-x:auto;line-height:normal;font-family:Menlo,'DejaVu Sans Mono',consolas,'Courier New',monospace\"><span style=\"font-weight: bold\">Model: \"sequential_4\"</span>\n",
       "</pre>\n"
      ]
     },
     "metadata": {},
     "output_type": "display_data"
    },
    {
     "data": {
      "text/plain": [
       "┏━━━━━━━━━━━━━━━━━━━━━━━━━━━━━━━━━┳━━━━━━━━━━━━━━━━━━━━━━━━┳━━━━━━━━━━━━━━━┓\n",
       "┃\u001B[1m \u001B[0m\u001B[1mLayer (type)                   \u001B[0m\u001B[1m \u001B[0m┃\u001B[1m \u001B[0m\u001B[1mOutput Shape          \u001B[0m\u001B[1m \u001B[0m┃\u001B[1m \u001B[0m\u001B[1m      Param #\u001B[0m\u001B[1m \u001B[0m┃\n",
       "┡━━━━━━━━━━━━━━━━━━━━━━━━━━━━━━━━━╇━━━━━━━━━━━━━━━━━━━━━━━━╇━━━━━━━━━━━━━━━┩\n",
       "│ rescaling_4 (\u001B[38;5;33mRescaling\u001B[0m)         │ (\u001B[38;5;45mNone\u001B[0m, \u001B[38;5;34m28\u001B[0m, \u001B[38;5;34m28\u001B[0m, \u001B[38;5;34m1\u001B[0m)      │             \u001B[38;5;34m0\u001B[0m │\n",
       "├─────────────────────────────────┼────────────────────────┼───────────────┤\n",
       "│ conv2d_5 (\u001B[38;5;33mConv2D\u001B[0m)               │ (\u001B[38;5;45mNone\u001B[0m, \u001B[38;5;34m28\u001B[0m, \u001B[38;5;34m28\u001B[0m, \u001B[38;5;34m32\u001B[0m)     │           \u001B[38;5;34m320\u001B[0m │\n",
       "├─────────────────────────────────┼────────────────────────┼───────────────┤\n",
       "│ max_pooling2d_5 (\u001B[38;5;33mMaxPooling2D\u001B[0m)  │ (\u001B[38;5;45mNone\u001B[0m, \u001B[38;5;34m14\u001B[0m, \u001B[38;5;34m14\u001B[0m, \u001B[38;5;34m32\u001B[0m)     │             \u001B[38;5;34m0\u001B[0m │\n",
       "├─────────────────────────────────┼────────────────────────┼───────────────┤\n",
       "│ conv2d_6 (\u001B[38;5;33mConv2D\u001B[0m)               │ (\u001B[38;5;45mNone\u001B[0m, \u001B[38;5;34m14\u001B[0m, \u001B[38;5;34m14\u001B[0m, \u001B[38;5;34m64\u001B[0m)     │        \u001B[38;5;34m18,496\u001B[0m │\n",
       "├─────────────────────────────────┼────────────────────────┼───────────────┤\n",
       "│ max_pooling2d_6 (\u001B[38;5;33mMaxPooling2D\u001B[0m)  │ (\u001B[38;5;45mNone\u001B[0m, \u001B[38;5;34m7\u001B[0m, \u001B[38;5;34m7\u001B[0m, \u001B[38;5;34m64\u001B[0m)       │             \u001B[38;5;34m0\u001B[0m │\n",
       "├─────────────────────────────────┼────────────────────────┼───────────────┤\n",
       "│ dropout_2 (\u001B[38;5;33mDropout\u001B[0m)             │ (\u001B[38;5;45mNone\u001B[0m, \u001B[38;5;34m7\u001B[0m, \u001B[38;5;34m7\u001B[0m, \u001B[38;5;34m64\u001B[0m)       │             \u001B[38;5;34m0\u001B[0m │\n",
       "├─────────────────────────────────┼────────────────────────┼───────────────┤\n",
       "│ flatten_4 (\u001B[38;5;33mFlatten\u001B[0m)             │ (\u001B[38;5;45mNone\u001B[0m, \u001B[38;5;34m3136\u001B[0m)           │             \u001B[38;5;34m0\u001B[0m │\n",
       "├─────────────────────────────────┼────────────────────────┼───────────────┤\n",
       "│ dense_8 (\u001B[38;5;33mDense\u001B[0m)                 │ (\u001B[38;5;45mNone\u001B[0m, \u001B[38;5;34m64\u001B[0m)             │       \u001B[38;5;34m200,768\u001B[0m │\n",
       "├─────────────────────────────────┼────────────────────────┼───────────────┤\n",
       "│ dense_9 (\u001B[38;5;33mDense\u001B[0m)                 │ (\u001B[38;5;45mNone\u001B[0m, \u001B[38;5;34m26\u001B[0m)             │         \u001B[38;5;34m1,690\u001B[0m │\n",
       "└─────────────────────────────────┴────────────────────────┴───────────────┘\n"
      ],
      "text/html": [
       "<pre style=\"white-space:pre;overflow-x:auto;line-height:normal;font-family:Menlo,'DejaVu Sans Mono',consolas,'Courier New',monospace\">┏━━━━━━━━━━━━━━━━━━━━━━━━━━━━━━━━━┳━━━━━━━━━━━━━━━━━━━━━━━━┳━━━━━━━━━━━━━━━┓\n",
       "┃<span style=\"font-weight: bold\"> Layer (type)                    </span>┃<span style=\"font-weight: bold\"> Output Shape           </span>┃<span style=\"font-weight: bold\">       Param # </span>┃\n",
       "┡━━━━━━━━━━━━━━━━━━━━━━━━━━━━━━━━━╇━━━━━━━━━━━━━━━━━━━━━━━━╇━━━━━━━━━━━━━━━┩\n",
       "│ rescaling_4 (<span style=\"color: #0087ff; text-decoration-color: #0087ff\">Rescaling</span>)         │ (<span style=\"color: #00d7ff; text-decoration-color: #00d7ff\">None</span>, <span style=\"color: #00af00; text-decoration-color: #00af00\">28</span>, <span style=\"color: #00af00; text-decoration-color: #00af00\">28</span>, <span style=\"color: #00af00; text-decoration-color: #00af00\">1</span>)      │             <span style=\"color: #00af00; text-decoration-color: #00af00\">0</span> │\n",
       "├─────────────────────────────────┼────────────────────────┼───────────────┤\n",
       "│ conv2d_5 (<span style=\"color: #0087ff; text-decoration-color: #0087ff\">Conv2D</span>)               │ (<span style=\"color: #00d7ff; text-decoration-color: #00d7ff\">None</span>, <span style=\"color: #00af00; text-decoration-color: #00af00\">28</span>, <span style=\"color: #00af00; text-decoration-color: #00af00\">28</span>, <span style=\"color: #00af00; text-decoration-color: #00af00\">32</span>)     │           <span style=\"color: #00af00; text-decoration-color: #00af00\">320</span> │\n",
       "├─────────────────────────────────┼────────────────────────┼───────────────┤\n",
       "│ max_pooling2d_5 (<span style=\"color: #0087ff; text-decoration-color: #0087ff\">MaxPooling2D</span>)  │ (<span style=\"color: #00d7ff; text-decoration-color: #00d7ff\">None</span>, <span style=\"color: #00af00; text-decoration-color: #00af00\">14</span>, <span style=\"color: #00af00; text-decoration-color: #00af00\">14</span>, <span style=\"color: #00af00; text-decoration-color: #00af00\">32</span>)     │             <span style=\"color: #00af00; text-decoration-color: #00af00\">0</span> │\n",
       "├─────────────────────────────────┼────────────────────────┼───────────────┤\n",
       "│ conv2d_6 (<span style=\"color: #0087ff; text-decoration-color: #0087ff\">Conv2D</span>)               │ (<span style=\"color: #00d7ff; text-decoration-color: #00d7ff\">None</span>, <span style=\"color: #00af00; text-decoration-color: #00af00\">14</span>, <span style=\"color: #00af00; text-decoration-color: #00af00\">14</span>, <span style=\"color: #00af00; text-decoration-color: #00af00\">64</span>)     │        <span style=\"color: #00af00; text-decoration-color: #00af00\">18,496</span> │\n",
       "├─────────────────────────────────┼────────────────────────┼───────────────┤\n",
       "│ max_pooling2d_6 (<span style=\"color: #0087ff; text-decoration-color: #0087ff\">MaxPooling2D</span>)  │ (<span style=\"color: #00d7ff; text-decoration-color: #00d7ff\">None</span>, <span style=\"color: #00af00; text-decoration-color: #00af00\">7</span>, <span style=\"color: #00af00; text-decoration-color: #00af00\">7</span>, <span style=\"color: #00af00; text-decoration-color: #00af00\">64</span>)       │             <span style=\"color: #00af00; text-decoration-color: #00af00\">0</span> │\n",
       "├─────────────────────────────────┼────────────────────────┼───────────────┤\n",
       "│ dropout_2 (<span style=\"color: #0087ff; text-decoration-color: #0087ff\">Dropout</span>)             │ (<span style=\"color: #00d7ff; text-decoration-color: #00d7ff\">None</span>, <span style=\"color: #00af00; text-decoration-color: #00af00\">7</span>, <span style=\"color: #00af00; text-decoration-color: #00af00\">7</span>, <span style=\"color: #00af00; text-decoration-color: #00af00\">64</span>)       │             <span style=\"color: #00af00; text-decoration-color: #00af00\">0</span> │\n",
       "├─────────────────────────────────┼────────────────────────┼───────────────┤\n",
       "│ flatten_4 (<span style=\"color: #0087ff; text-decoration-color: #0087ff\">Flatten</span>)             │ (<span style=\"color: #00d7ff; text-decoration-color: #00d7ff\">None</span>, <span style=\"color: #00af00; text-decoration-color: #00af00\">3136</span>)           │             <span style=\"color: #00af00; text-decoration-color: #00af00\">0</span> │\n",
       "├─────────────────────────────────┼────────────────────────┼───────────────┤\n",
       "│ dense_8 (<span style=\"color: #0087ff; text-decoration-color: #0087ff\">Dense</span>)                 │ (<span style=\"color: #00d7ff; text-decoration-color: #00d7ff\">None</span>, <span style=\"color: #00af00; text-decoration-color: #00af00\">64</span>)             │       <span style=\"color: #00af00; text-decoration-color: #00af00\">200,768</span> │\n",
       "├─────────────────────────────────┼────────────────────────┼───────────────┤\n",
       "│ dense_9 (<span style=\"color: #0087ff; text-decoration-color: #0087ff\">Dense</span>)                 │ (<span style=\"color: #00d7ff; text-decoration-color: #00d7ff\">None</span>, <span style=\"color: #00af00; text-decoration-color: #00af00\">26</span>)             │         <span style=\"color: #00af00; text-decoration-color: #00af00\">1,690</span> │\n",
       "└─────────────────────────────────┴────────────────────────┴───────────────┘\n",
       "</pre>\n"
      ]
     },
     "metadata": {},
     "output_type": "display_data"
    },
    {
     "data": {
      "text/plain": [
       "\u001B[1m Total params: \u001B[0m\u001B[38;5;34m221,274\u001B[0m (864.35 KB)\n"
      ],
      "text/html": [
       "<pre style=\"white-space:pre;overflow-x:auto;line-height:normal;font-family:Menlo,'DejaVu Sans Mono',consolas,'Courier New',monospace\"><span style=\"font-weight: bold\"> Total params: </span><span style=\"color: #00af00; text-decoration-color: #00af00\">221,274</span> (864.35 KB)\n",
       "</pre>\n"
      ]
     },
     "metadata": {},
     "output_type": "display_data"
    },
    {
     "data": {
      "text/plain": [
       "\u001B[1m Trainable params: \u001B[0m\u001B[38;5;34m221,274\u001B[0m (864.35 KB)\n"
      ],
      "text/html": [
       "<pre style=\"white-space:pre;overflow-x:auto;line-height:normal;font-family:Menlo,'DejaVu Sans Mono',consolas,'Courier New',monospace\"><span style=\"font-weight: bold\"> Trainable params: </span><span style=\"color: #00af00; text-decoration-color: #00af00\">221,274</span> (864.35 KB)\n",
       "</pre>\n"
      ]
     },
     "metadata": {},
     "output_type": "display_data"
    },
    {
     "data": {
      "text/plain": [
       "\u001B[1m Non-trainable params: \u001B[0m\u001B[38;5;34m0\u001B[0m (0.00 B)\n"
      ],
      "text/html": [
       "<pre style=\"white-space:pre;overflow-x:auto;line-height:normal;font-family:Menlo,'DejaVu Sans Mono',consolas,'Courier New',monospace\"><span style=\"font-weight: bold\"> Non-trainable params: </span><span style=\"color: #00af00; text-decoration-color: #00af00\">0</span> (0.00 B)\n",
       "</pre>\n"
      ]
     },
     "metadata": {},
     "output_type": "display_data"
    }
   ],
   "execution_count": 85
  },
  {
   "metadata": {
    "ExecuteTime": {
     "end_time": "2024-09-08T10:37:41.744351Z",
     "start_time": "2024-09-08T10:30:42.557280Z"
    }
   },
   "cell_type": "code",
   "source": "history_model3 = model3.fit(train_images, train_labels, batch_size=128, epochs=20, verbose=1, validation_data=(val_images, val_labels), callbacks=[tf.keras.callbacks.EarlyStopping(monitor='val_accuracy', mode='max', patience=5)])",
   "id": "4be8c3dcc9450517",
   "outputs": [
    {
     "name": "stdout",
     "output_type": "stream",
     "text": [
      "Epoch 1/20\n",
      "\u001B[1m486/486\u001B[0m \u001B[32m━━━━━━━━━━━━━━━━━━━━\u001B[0m\u001B[37m\u001B[0m \u001B[1m22s\u001B[0m 43ms/step - accuracy: 0.5743 - loss: 1.5956 - val_accuracy: 0.8684 - val_loss: 0.5753\n",
      "Epoch 2/20\n",
      "\u001B[1m486/486\u001B[0m \u001B[32m━━━━━━━━━━━━━━━━━━━━\u001B[0m\u001B[37m\u001B[0m \u001B[1m21s\u001B[0m 43ms/step - accuracy: 0.8537 - loss: 0.6098 - val_accuracy: 0.9005 - val_loss: 0.4702\n",
      "Epoch 3/20\n",
      "\u001B[1m486/486\u001B[0m \u001B[32m━━━━━━━━━━━━━━━━━━━━\u001B[0m\u001B[37m\u001B[0m \u001B[1m21s\u001B[0m 43ms/step - accuracy: 0.8813 - loss: 0.5152 - val_accuracy: 0.9091 - val_loss: 0.4308\n",
      "Epoch 4/20\n",
      "\u001B[1m486/486\u001B[0m \u001B[32m━━━━━━━━━━━━━━━━━━━━\u001B[0m\u001B[37m\u001B[0m \u001B[1m21s\u001B[0m 43ms/step - accuracy: 0.8937 - loss: 0.4692 - val_accuracy: 0.9105 - val_loss: 0.4166\n",
      "Epoch 5/20\n",
      "\u001B[1m486/486\u001B[0m \u001B[32m━━━━━━━━━━━━━━━━━━━━\u001B[0m\u001B[37m\u001B[0m \u001B[1m21s\u001B[0m 43ms/step - accuracy: 0.9015 - loss: 0.4393 - val_accuracy: 0.9153 - val_loss: 0.3976\n",
      "Epoch 6/20\n",
      "\u001B[1m486/486\u001B[0m \u001B[32m━━━━━━━━━━━━━━━━━━━━\u001B[0m\u001B[37m\u001B[0m \u001B[1m21s\u001B[0m 43ms/step - accuracy: 0.9057 - loss: 0.4245 - val_accuracy: 0.9208 - val_loss: 0.3860\n",
      "Epoch 7/20\n",
      "\u001B[1m486/486\u001B[0m \u001B[32m━━━━━━━━━━━━━━━━━━━━\u001B[0m\u001B[37m\u001B[0m \u001B[1m21s\u001B[0m 43ms/step - accuracy: 0.9084 - loss: 0.4115 - val_accuracy: 0.9199 - val_loss: 0.3842\n",
      "Epoch 8/20\n",
      "\u001B[1m486/486\u001B[0m \u001B[32m━━━━━━━━━━━━━━━━━━━━\u001B[0m\u001B[37m\u001B[0m \u001B[1m21s\u001B[0m 43ms/step - accuracy: 0.9089 - loss: 0.4077 - val_accuracy: 0.9246 - val_loss: 0.3696\n",
      "Epoch 9/20\n",
      "\u001B[1m486/486\u001B[0m \u001B[32m━━━━━━━━━━━━━━━━━━━━\u001B[0m\u001B[37m\u001B[0m \u001B[1m21s\u001B[0m 43ms/step - accuracy: 0.9130 - loss: 0.3924 - val_accuracy: 0.9250 - val_loss: 0.3697\n",
      "Epoch 10/20\n",
      "\u001B[1m486/486\u001B[0m \u001B[32m━━━━━━━━━━━━━━━━━━━━\u001B[0m\u001B[37m\u001B[0m \u001B[1m21s\u001B[0m 43ms/step - accuracy: 0.9183 - loss: 0.3770 - val_accuracy: 0.9278 - val_loss: 0.3552\n",
      "Epoch 11/20\n",
      "\u001B[1m486/486\u001B[0m \u001B[32m━━━━━━━━━━━━━━━━━━━━\u001B[0m\u001B[37m\u001B[0m \u001B[1m21s\u001B[0m 44ms/step - accuracy: 0.9152 - loss: 0.3764 - val_accuracy: 0.9252 - val_loss: 0.3606\n",
      "Epoch 12/20\n",
      "\u001B[1m486/486\u001B[0m \u001B[32m━━━━━━━━━━━━━━━━━━━━\u001B[0m\u001B[37m\u001B[0m \u001B[1m21s\u001B[0m 43ms/step - accuracy: 0.9185 - loss: 0.3735 - val_accuracy: 0.9242 - val_loss: 0.3638\n",
      "Epoch 13/20\n",
      "\u001B[1m486/486\u001B[0m \u001B[32m━━━━━━━━━━━━━━━━━━━━\u001B[0m\u001B[37m\u001B[0m \u001B[1m21s\u001B[0m 43ms/step - accuracy: 0.9181 - loss: 0.3652 - val_accuracy: 0.9287 - val_loss: 0.3438\n",
      "Epoch 14/20\n",
      "\u001B[1m486/486\u001B[0m \u001B[32m━━━━━━━━━━━━━━━━━━━━\u001B[0m\u001B[37m\u001B[0m \u001B[1m21s\u001B[0m 42ms/step - accuracy: 0.9232 - loss: 0.3536 - val_accuracy: 0.9286 - val_loss: 0.3464\n",
      "Epoch 15/20\n",
      "\u001B[1m486/486\u001B[0m \u001B[32m━━━━━━━━━━━━━━━━━━━━\u001B[0m\u001B[37m\u001B[0m \u001B[1m21s\u001B[0m 43ms/step - accuracy: 0.9203 - loss: 0.3609 - val_accuracy: 0.9290 - val_loss: 0.3395\n",
      "Epoch 16/20\n",
      "\u001B[1m486/486\u001B[0m \u001B[32m━━━━━━━━━━━━━━━━━━━━\u001B[0m\u001B[37m\u001B[0m \u001B[1m21s\u001B[0m 43ms/step - accuracy: 0.9237 - loss: 0.3535 - val_accuracy: 0.9253 - val_loss: 0.3499\n",
      "Epoch 17/20\n",
      "\u001B[1m486/486\u001B[0m \u001B[32m━━━━━━━━━━━━━━━━━━━━\u001B[0m\u001B[37m\u001B[0m \u001B[1m21s\u001B[0m 43ms/step - accuracy: 0.9236 - loss: 0.3529 - val_accuracy: 0.9303 - val_loss: 0.3355\n",
      "Epoch 18/20\n",
      "\u001B[1m486/486\u001B[0m \u001B[32m━━━━━━━━━━━━━━━━━━━━\u001B[0m\u001B[37m\u001B[0m \u001B[1m21s\u001B[0m 43ms/step - accuracy: 0.9242 - loss: 0.3483 - val_accuracy: 0.9326 - val_loss: 0.3358\n",
      "Epoch 19/20\n",
      "\u001B[1m486/486\u001B[0m \u001B[32m━━━━━━━━━━━━━━━━━━━━\u001B[0m\u001B[37m\u001B[0m \u001B[1m21s\u001B[0m 43ms/step - accuracy: 0.9248 - loss: 0.3415 - val_accuracy: 0.9301 - val_loss: 0.3333\n",
      "Epoch 20/20\n",
      "\u001B[1m486/486\u001B[0m \u001B[32m━━━━━━━━━━━━━━━━━━━━\u001B[0m\u001B[37m\u001B[0m \u001B[1m21s\u001B[0m 43ms/step - accuracy: 0.9240 - loss: 0.3452 - val_accuracy: 0.9278 - val_loss: 0.3360\n"
     ]
    }
   ],
   "execution_count": 86
  },
  {
   "metadata": {
    "ExecuteTime": {
     "end_time": "2024-09-08T10:37:42.060290Z",
     "start_time": "2024-09-08T10:37:41.744351Z"
    }
   },
   "cell_type": "code",
   "source": [
    "history_model3_df = pd.DataFrame(history_model3.history)\n",
    "plot_loss(history_model3_df)\n",
    "plot_accuracy(history_model3_df)"
   ],
   "id": "cb5548cd00e89bf5",
   "outputs": [
    {
     "data": {
      "text/plain": [
       "<Figure size 1200x800 with 1 Axes>"
      ],
      "image/png": "[encoded data removed]"
     },
     "metadata": {},
     "output_type": "display_data"
    },
    {
     "data": {
      "text/plain": [
       "<Figure size 1200x800 with 1 Axes>"
      ],
      "image/png": "[encoded data removed]"
     },
     "metadata": {},
     "output_type": "display_data"
    }
   ],
   "execution_count": 87
  },
  {
   "metadata": {
    "ExecuteTime": {
     "end_time": "2024-09-08T10:37:54.094352Z",
     "start_time": "2024-09-08T10:37:42.060290Z"
    }
   },
   "cell_type": "code",
   "source": [
    "predictions_train_model3 = np.argmax(model3.predict(train_images), axis=-1)\n",
    "predictions_test_model3 = np.argmax(model3.predict(test_images), axis=-1)"
   ],
   "id": "ec2b84fa8808bfa1",
   "outputs": [
    {
     "name": "stdout",
     "output_type": "stream",
     "text": [
      "\u001B[1m1943/1943\u001B[0m \u001B[32m━━━━━━━━━━━━━━━━━━━━\u001B[0m\u001B[37m\u001B[0m \u001B[1m9s\u001B[0m 5ms/step\n",
      "\u001B[1m417/417\u001B[0m \u001B[32m━━━━━━━━━━━━━━━━━━━━\u001B[0m\u001B[37m\u001B[0m \u001B[1m2s\u001B[0m 4ms/step\n"
     ]
    }
   ],
   "execution_count": 88
  },
  {
   "metadata": {
    "ExecuteTime": {
     "end_time": "2024-09-08T10:37:54.104659Z",
     "start_time": "2024-09-08T10:37:54.094352Z"
    }
   },
   "cell_type": "code",
   "source": "print_accuracy_scores(train_labels, test_labels, predictions_train_model3, predictions_test_model3)",
   "id": "193b73b159408b94",
   "outputs": [
    {
     "name": "stdout",
     "output_type": "stream",
     "text": [
      "Training set accuracy:   0.945\n",
      "Test set accuracy:       0.926\n"
     ]
    }
   ],
   "execution_count": 89
  }
 ],
 "metadata": {
  "kernelspec": {
   "display_name": "Python 3",
   "language": "python",
   "name": "python3"
  },
  "language_info": {
   "codemirror_mode": {
    "name": "ipython",
    "version": 2
   },
   "file_extension": ".py",
   "mimetype": "text/x-python",
   "name": "python",
   "nbconvert_exporter": "python",
   "pygments_lexer": "ipython2",
   "version": "2.7.6"
  }
 },
 "nbformat": 4,
 "nbformat_minor": 5
}
